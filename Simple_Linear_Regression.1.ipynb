{
 "cells": [
  {
   "cell_type": "markdown",
   "id": "56bda95c",
   "metadata": {},
   "source": [
    "### Machine Learning - Linear Regression"
   ]
  },
  {
   "cell_type": "markdown",
   "id": "978d25ee",
   "metadata": {},
   "source": [
    "#### Simple Linear Regression"
   ]
  },
  {
   "cell_type": "markdown",
   "id": "3fafc401",
   "metadata": {},
   "source": [
    "#### Lets consider independent variable as Age of cars(x) and dependent variable y as their speed."
   ]
  },
  {
   "cell_type": "code",
   "execution_count": 1,
   "id": "960056ac",
   "metadata": {},
   "outputs": [],
   "source": [
    "x = [5,7,8,7,2,17,2,9,4,11,12,9,6]\n",
    "y = [99,86,87,88,111,86,103,87,94,78,77,85,86]"
   ]
  },
  {
   "cell_type": "code",
   "execution_count": 2,
   "id": "fa48eae0",
   "metadata": {},
   "outputs": [],
   "source": [
    "import seaborn as sns\n",
    "from scipy import stats\n",
    "import matplotlib.pyplot as plt\n",
    "import numpy as np"
   ]
  },
  {
   "cell_type": "code",
   "execution_count": 3,
   "id": "f3849fba",
   "metadata": {},
   "outputs": [],
   "source": [
    "slope, intercept, r, p, std_error = stats.linregress(x, y)"
   ]
  },
  {
   "cell_type": "code",
   "execution_count": 4,
   "id": "33a6cd1f",
   "metadata": {},
   "outputs": [],
   "source": [
    "def myfunc(x):\n",
    "    return slope*x+intercept"
   ]
  },
  {
   "cell_type": "code",
   "execution_count": 5,
   "id": "e010bcb8",
   "metadata": {},
   "outputs": [
    {
     "data": {
      "text/plain": [
       "<map at 0x24d208e6850>"
      ]
     },
     "execution_count": 5,
     "metadata": {},
     "output_type": "execute_result"
    }
   ],
   "source": [
    "map(myfunc, x)"
   ]
  },
  {
   "cell_type": "code",
   "execution_count": 6,
   "id": "be2840db",
   "metadata": {},
   "outputs": [
    {
     "data": {
      "text/plain": [
       "[94.3495217071376,\n",
       " 90.84694628403238,\n",
       " 89.09565857247976,\n",
       " 90.84694628403238,\n",
       " 99.60338484179543,\n",
       " 73.33406916850626,\n",
       " 99.60338484179543,\n",
       " 87.34437086092716,\n",
       " 96.10080941869022,\n",
       " 83.84179543782193,\n",
       " 82.09050772626932,\n",
       " 87.34437086092716,\n",
       " 92.59823399558499]"
      ]
     },
     "execution_count": 6,
     "metadata": {},
     "output_type": "execute_result"
    }
   ],
   "source": [
    "list(map(myfunc, x))"
   ]
  },
  {
   "cell_type": "code",
   "execution_count": 7,
   "id": "2c49987e",
   "metadata": {},
   "outputs": [],
   "source": [
    "mymodel = list(map(myfunc, x))"
   ]
  },
  {
   "cell_type": "code",
   "execution_count": 8,
   "id": "625e2dbb",
   "metadata": {},
   "outputs": [
    {
     "data": {
      "image/png": "[encoded data removed]",
      "text/plain": [
       "<Figure size 640x480 with 1 Axes>"
      ]
     },
     "metadata": {},
     "output_type": "display_data"
    }
   ],
   "source": [
    "plt.scatter(x,y)\n",
    "plt.plot(x, mymodel)\n",
    "plt.show()"
   ]
  },
  {
   "cell_type": "code",
   "execution_count": 9,
   "id": "24687391",
   "metadata": {},
   "outputs": [
    {
     "data": {
      "text/plain": [
       "-0.758591524376155"
      ]
     },
     "execution_count": 9,
     "metadata": {},
     "output_type": "execute_result"
    }
   ],
   "source": [
    "r"
   ]
  },
  {
   "cell_type": "code",
   "execution_count": 10,
   "id": "8134b2fc",
   "metadata": {},
   "outputs": [
    {
     "data": {
      "text/plain": [
       "0.453536157607742"
      ]
     },
     "execution_count": 10,
     "metadata": {},
     "output_type": "execute_result"
    }
   ],
   "source": [
    "std_error"
   ]
  },
  {
   "cell_type": "code",
   "execution_count": 11,
   "id": "a7e37a94",
   "metadata": {},
   "outputs": [
    {
     "data": {
      "text/plain": [
       "0.0026468739224561064"
      ]
     },
     "execution_count": 11,
     "metadata": {},
     "output_type": "execute_result"
    }
   ],
   "source": [
    "p"
   ]
  },
  {
   "cell_type": "code",
   "execution_count": 12,
   "id": "04d8de83",
   "metadata": {},
   "outputs": [],
   "source": [
    "speed = myfunc(10)"
   ]
  },
  {
   "cell_type": "code",
   "execution_count": 13,
   "id": "bfa519fa",
   "metadata": {},
   "outputs": [
    {
     "data": {
      "text/plain": [
       "85.59308314937454"
      ]
     },
     "execution_count": 13,
     "metadata": {},
     "output_type": "execute_result"
    }
   ],
   "source": [
    "speed"
   ]
  },
  {
   "cell_type": "markdown",
   "id": "3d7656dc",
   "metadata": {},
   "source": [
    "#### Example"
   ]
  },
  {
   "cell_type": "code",
   "execution_count": 14,
   "id": "a8ea58a7",
   "metadata": {},
   "outputs": [],
   "source": [
    "from pydataset import data"
   ]
  },
  {
   "cell_type": "code",
   "execution_count": 15,
   "id": "3e9d203c",
   "metadata": {},
   "outputs": [
    {
     "data": {
      "text/html": [
       "<div>\n",
       "<style scoped>\n",
       "    .dataframe tbody tr th:only-of-type {\n",
       "        vertical-align: middle;\n",
       "    }\n",
       "\n",
       "    .dataframe tbody tr th {\n",
       "        vertical-align: top;\n",
       "    }\n",
       "\n",
       "    .dataframe thead th {\n",
       "        text-align: right;\n",
       "    }\n",
       "</style>\n",
       "<table border=\"1\" class=\"dataframe\">\n",
       "  <thead>\n",
       "    <tr style=\"text-align: right;\">\n",
       "      <th></th>\n",
       "      <th>dataset_id</th>\n",
       "      <th>title</th>\n",
       "    </tr>\n",
       "  </thead>\n",
       "  <tbody>\n",
       "    <tr>\n",
       "      <th>0</th>\n",
       "      <td>AirPassengers</td>\n",
       "      <td>Monthly Airline Passenger Numbers 1949-1960</td>\n",
       "    </tr>\n",
       "    <tr>\n",
       "      <th>1</th>\n",
       "      <td>BJsales</td>\n",
       "      <td>Sales Data with Leading Indicator</td>\n",
       "    </tr>\n",
       "    <tr>\n",
       "      <th>2</th>\n",
       "      <td>BOD</td>\n",
       "      <td>Biochemical Oxygen Demand</td>\n",
       "    </tr>\n",
       "    <tr>\n",
       "      <th>3</th>\n",
       "      <td>Formaldehyde</td>\n",
       "      <td>Determination of Formaldehyde</td>\n",
       "    </tr>\n",
       "    <tr>\n",
       "      <th>4</th>\n",
       "      <td>HairEyeColor</td>\n",
       "      <td>Hair and Eye Color of Statistics Students</td>\n",
       "    </tr>\n",
       "    <tr>\n",
       "      <th>...</th>\n",
       "      <td>...</td>\n",
       "      <td>...</td>\n",
       "    </tr>\n",
       "    <tr>\n",
       "      <th>752</th>\n",
       "      <td>VerbAgg</td>\n",
       "      <td>Verbal Aggression item responses</td>\n",
       "    </tr>\n",
       "    <tr>\n",
       "      <th>753</th>\n",
       "      <td>cake</td>\n",
       "      <td>Breakage Angle of Chocolate Cakes</td>\n",
       "    </tr>\n",
       "    <tr>\n",
       "      <th>754</th>\n",
       "      <td>cbpp</td>\n",
       "      <td>Contagious bovine pleuropneumonia</td>\n",
       "    </tr>\n",
       "    <tr>\n",
       "      <th>755</th>\n",
       "      <td>grouseticks</td>\n",
       "      <td>Data on red grouse ticks from Elston et al. 2001</td>\n",
       "    </tr>\n",
       "    <tr>\n",
       "      <th>756</th>\n",
       "      <td>sleepstudy</td>\n",
       "      <td>Reaction times in a sleep deprivation study</td>\n",
       "    </tr>\n",
       "  </tbody>\n",
       "</table>\n",
       "<p>757 rows × 2 columns</p>\n",
       "</div>"
      ],
      "text/plain": [
       "        dataset_id                                             title\n",
       "0    AirPassengers       Monthly Airline Passenger Numbers 1949-1960\n",
       "1          BJsales                 Sales Data with Leading Indicator\n",
       "2              BOD                         Biochemical Oxygen Demand\n",
       "3     Formaldehyde                     Determination of Formaldehyde\n",
       "4     HairEyeColor         Hair and Eye Color of Statistics Students\n",
       "..             ...                                               ...\n",
       "752        VerbAgg                  Verbal Aggression item responses\n",
       "753           cake                 Breakage Angle of Chocolate Cakes\n",
       "754           cbpp                 Contagious bovine pleuropneumonia\n",
       "755    grouseticks  Data on red grouse ticks from Elston et al. 2001\n",
       "756     sleepstudy       Reaction times in a sleep deprivation study\n",
       "\n",
       "[757 rows x 2 columns]"
      ]
     },
     "execution_count": 15,
     "metadata": {},
     "output_type": "execute_result"
    }
   ],
   "source": [
    "data()"
   ]
  },
  {
   "cell_type": "markdown",
   "id": "5a079c01",
   "metadata": {},
   "source": [
    "#### Lets load BJsales dataset"
   ]
  },
  {
   "cell_type": "code",
   "execution_count": 16,
   "id": "b9e574f8",
   "metadata": {},
   "outputs": [],
   "source": [
    "data1 = data('BJsales')"
   ]
  },
  {
   "cell_type": "code",
   "execution_count": 17,
   "id": "acad3deb",
   "metadata": {},
   "outputs": [
    {
     "data": {
      "text/html": [
       "<div>\n",
       "<style scoped>\n",
       "    .dataframe tbody tr th:only-of-type {\n",
       "        vertical-align: middle;\n",
       "    }\n",
       "\n",
       "    .dataframe tbody tr th {\n",
       "        vertical-align: top;\n",
       "    }\n",
       "\n",
       "    .dataframe thead th {\n",
       "        text-align: right;\n",
       "    }\n",
       "</style>\n",
       "<table border=\"1\" class=\"dataframe\">\n",
       "  <thead>\n",
       "    <tr style=\"text-align: right;\">\n",
       "      <th></th>\n",
       "      <th>time</th>\n",
       "      <th>BJsales</th>\n",
       "    </tr>\n",
       "  </thead>\n",
       "  <tbody>\n",
       "    <tr>\n",
       "      <th>1</th>\n",
       "      <td>1</td>\n",
       "      <td>200.1</td>\n",
       "    </tr>\n",
       "    <tr>\n",
       "      <th>2</th>\n",
       "      <td>2</td>\n",
       "      <td>199.5</td>\n",
       "    </tr>\n",
       "    <tr>\n",
       "      <th>3</th>\n",
       "      <td>3</td>\n",
       "      <td>199.4</td>\n",
       "    </tr>\n",
       "    <tr>\n",
       "      <th>4</th>\n",
       "      <td>4</td>\n",
       "      <td>198.9</td>\n",
       "    </tr>\n",
       "    <tr>\n",
       "      <th>5</th>\n",
       "      <td>5</td>\n",
       "      <td>199.0</td>\n",
       "    </tr>\n",
       "  </tbody>\n",
       "</table>\n",
       "</div>"
      ],
      "text/plain": [
       "   time  BJsales\n",
       "1     1    200.1\n",
       "2     2    199.5\n",
       "3     3    199.4\n",
       "4     4    198.9\n",
       "5     5    199.0"
      ]
     },
     "execution_count": 17,
     "metadata": {},
     "output_type": "execute_result"
    }
   ],
   "source": [
    "data1.head()"
   ]
  },
  {
   "cell_type": "code",
   "execution_count": 18,
   "id": "3755a500",
   "metadata": {},
   "outputs": [],
   "source": [
    "x = data1['time'].values"
   ]
  },
  {
   "cell_type": "code",
   "execution_count": 19,
   "id": "a21955e2",
   "metadata": {},
   "outputs": [],
   "source": [
    "y = data1['BJsales'].values"
   ]
  },
  {
   "cell_type": "markdown",
   "id": "7beb8439",
   "metadata": {},
   "source": [
    "#### Machine Learning - Polynomial Regression"
   ]
  },
  {
   "cell_type": "code",
   "execution_count": 20,
   "id": "bd42a20f",
   "metadata": {},
   "outputs": [],
   "source": [
    "x = [1 ,2 ,3 ,5 ,6 ,7 ,8 ,9 ,10 ,12 ,13 ,14 ,15 ,16 ,18 ,19 ,21 ,22 ]\n",
    "y = [100 ,90 ,80 ,60 ,60 ,55 ,60 ,65 ,70 ,70 ,75 ,76 ,78 ,79 ,90 ,99 ,99 ,100 ]"
   ]
  },
  {
   "cell_type": "code",
   "execution_count": 21,
   "id": "6e0fc49f",
   "metadata": {},
   "outputs": [
    {
     "data": {
      "image/png": "[encoded data removed]",
      "text/plain": [
       "<Figure size 640x480 with 1 Axes>"
      ]
     },
     "metadata": {},
     "output_type": "display_data"
    }
   ],
   "source": [
    "plt.scatter(x, y)\n",
    "plt.title(\"DATA POINTS\")\n",
    "plt.show()"
   ]
  },
  {
   "cell_type": "code",
   "execution_count": 22,
   "id": "c4745200",
   "metadata": {},
   "outputs": [],
   "source": [
    "mymodel = np.poly1d(np.polyfit(x,y, 3))"
   ]
  },
  {
   "cell_type": "code",
   "execution_count": 23,
   "id": "f33dabdc",
   "metadata": {},
   "outputs": [],
   "source": [
    "myline = np.linspace(1 , 22 , 100)"
   ]
  },
  {
   "cell_type": "code",
   "execution_count": 24,
   "id": "71f29a9b",
   "metadata": {},
   "outputs": [
    {
     "data": {
      "image/png": "[encoded data removed]",
      "text/plain": [
       "<Figure size 640x480 with 1 Axes>"
      ]
     },
     "metadata": {},
     "output_type": "display_data"
    }
   ],
   "source": [
    "plt.plot(myline, mymodel(myline))\n",
    "plt.show()"
   ]
  },
  {
   "cell_type": "markdown",
   "id": "a202ceaf",
   "metadata": {},
   "source": [
    "#### R-Squared"
   ]
  },
  {
   "cell_type": "code",
   "execution_count": 25,
   "id": "4b7484f3",
   "metadata": {},
   "outputs": [],
   "source": [
    "from sklearn.metrics import r2_score"
   ]
  },
  {
   "cell_type": "code",
   "execution_count": 26,
   "id": "934a4026",
   "metadata": {},
   "outputs": [
    {
     "data": {
      "text/plain": [
       "0.9432150416451027"
      ]
     },
     "execution_count": 26,
     "metadata": {},
     "output_type": "execute_result"
    }
   ],
   "source": [
    "r2_score(y, mymodel(x))"
   ]
  },
  {
   "cell_type": "code",
   "execution_count": 27,
   "id": "b68873c5",
   "metadata": {},
   "outputs": [],
   "source": [
    "speed = mymodel(17)"
   ]
  },
  {
   "cell_type": "code",
   "execution_count": 28,
   "id": "72da8af0",
   "metadata": {},
   "outputs": [
    {
     "data": {
      "text/plain": [
       "88.87331269697987"
      ]
     },
     "execution_count": 28,
     "metadata": {},
     "output_type": "execute_result"
    }
   ],
   "source": [
    "speed"
   ]
  },
  {
   "cell_type": "markdown",
   "id": "bf0ac585",
   "metadata": {},
   "source": [
    "#### Machine Learning - Multiple Regression"
   ]
  },
  {
   "cell_type": "markdown",
   "id": "e524aaeb",
   "metadata": {},
   "source": [
    "#### Multiple Regression"
   ]
  },
  {
   "cell_type": "code",
   "execution_count": 29,
   "id": "b6ca922f",
   "metadata": {},
   "outputs": [],
   "source": [
    "import pandas as pd"
   ]
  },
  {
   "cell_type": "code",
   "execution_count": 30,
   "id": "ef97ddfc",
   "metadata": {},
   "outputs": [
    {
     "data": {
      "text/html": [
       "<div>\n",
       "<style scoped>\n",
       "    .dataframe tbody tr th:only-of-type {\n",
       "        vertical-align: middle;\n",
       "    }\n",
       "\n",
       "    .dataframe tbody tr th {\n",
       "        vertical-align: top;\n",
       "    }\n",
       "\n",
       "    .dataframe thead th {\n",
       "        text-align: right;\n",
       "    }\n",
       "</style>\n",
       "<table border=\"1\" class=\"dataframe\">\n",
       "  <thead>\n",
       "    <tr style=\"text-align: right;\">\n",
       "      <th></th>\n",
       "      <th>Car</th>\n",
       "      <th>Model</th>\n",
       "      <th>Volume</th>\n",
       "      <th>Weight</th>\n",
       "      <th>CO2</th>\n",
       "    </tr>\n",
       "  </thead>\n",
       "  <tbody>\n",
       "    <tr>\n",
       "      <th>0</th>\n",
       "      <td>Toyota</td>\n",
       "      <td>Aygo</td>\n",
       "      <td>1000</td>\n",
       "      <td>790</td>\n",
       "      <td>99</td>\n",
       "    </tr>\n",
       "    <tr>\n",
       "      <th>1</th>\n",
       "      <td>Mitsubishi</td>\n",
       "      <td>Space Star</td>\n",
       "      <td>1200</td>\n",
       "      <td>1160</td>\n",
       "      <td>95</td>\n",
       "    </tr>\n",
       "    <tr>\n",
       "      <th>2</th>\n",
       "      <td>Skoda</td>\n",
       "      <td>Citigo</td>\n",
       "      <td>1000</td>\n",
       "      <td>929</td>\n",
       "      <td>95</td>\n",
       "    </tr>\n",
       "    <tr>\n",
       "      <th>3</th>\n",
       "      <td>Fiat</td>\n",
       "      <td>500</td>\n",
       "      <td>900</td>\n",
       "      <td>865</td>\n",
       "      <td>90</td>\n",
       "    </tr>\n",
       "    <tr>\n",
       "      <th>4</th>\n",
       "      <td>Mini</td>\n",
       "      <td>Cooper</td>\n",
       "      <td>1500</td>\n",
       "      <td>1140</td>\n",
       "      <td>105</td>\n",
       "    </tr>\n",
       "    <tr>\n",
       "      <th>5</th>\n",
       "      <td>VW</td>\n",
       "      <td>Up!</td>\n",
       "      <td>1000</td>\n",
       "      <td>929</td>\n",
       "      <td>105</td>\n",
       "    </tr>\n",
       "    <tr>\n",
       "      <th>6</th>\n",
       "      <td>Skoda</td>\n",
       "      <td>Fabia</td>\n",
       "      <td>1400</td>\n",
       "      <td>1109</td>\n",
       "      <td>90</td>\n",
       "    </tr>\n",
       "    <tr>\n",
       "      <th>7</th>\n",
       "      <td>Mercedes</td>\n",
       "      <td>A-Class</td>\n",
       "      <td>1500</td>\n",
       "      <td>1365</td>\n",
       "      <td>92</td>\n",
       "    </tr>\n",
       "    <tr>\n",
       "      <th>8</th>\n",
       "      <td>Ford</td>\n",
       "      <td>Fiesta</td>\n",
       "      <td>1500</td>\n",
       "      <td>1112</td>\n",
       "      <td>98</td>\n",
       "    </tr>\n",
       "    <tr>\n",
       "      <th>9</th>\n",
       "      <td>Audi</td>\n",
       "      <td>A1</td>\n",
       "      <td>1600</td>\n",
       "      <td>1150</td>\n",
       "      <td>99</td>\n",
       "    </tr>\n",
       "  </tbody>\n",
       "</table>\n",
       "</div>"
      ],
      "text/plain": [
       "          Car       Model  Volume  Weight  CO2\n",
       "0      Toyota        Aygo    1000     790   99\n",
       "1  Mitsubishi  Space Star    1200    1160   95\n",
       "2       Skoda      Citigo    1000     929   95\n",
       "3        Fiat         500     900     865   90\n",
       "4        Mini      Cooper    1500    1140  105\n",
       "5          VW         Up!    1000     929  105\n",
       "6       Skoda       Fabia    1400    1109   90\n",
       "7    Mercedes     A-Class    1500    1365   92\n",
       "8        Ford      Fiesta    1500    1112   98\n",
       "9        Audi          A1    1600    1150   99"
      ]
     },
     "execution_count": 30,
     "metadata": {},
     "output_type": "execute_result"
    }
   ],
   "source": [
    "data = pd.read_csv('./cars.csv')\n",
    "data.head(10)"
   ]
  },
  {
   "cell_type": "markdown",
   "id": "b01d9ce9",
   "metadata": {},
   "source": [
    "#### Splitting the data into IV and DV"
   ]
  },
  {
   "cell_type": "code",
   "execution_count": 31,
   "id": "c724fb10",
   "metadata": {},
   "outputs": [],
   "source": [
    "x = data.iloc[:, 2:-1].values"
   ]
  },
  {
   "cell_type": "code",
   "execution_count": 32,
   "id": "cb0da6b8",
   "metadata": {},
   "outputs": [],
   "source": [
    "y = data.iloc[:, -1].values"
   ]
  },
  {
   "cell_type": "code",
   "execution_count": 33,
   "id": "e6988f2a",
   "metadata": {
    "scrolled": true
   },
   "outputs": [
    {
     "data": {
      "text/plain": [
       "array([[1000,  790],\n",
       "       [1200, 1160],\n",
       "       [1000,  929],\n",
       "       [ 900,  865],\n",
       "       [1500, 1140],\n",
       "       [1000,  929],\n",
       "       [1400, 1109],\n",
       "       [1500, 1365],\n",
       "       [1500, 1112],\n",
       "       [1600, 1150],\n",
       "       [1100,  980],\n",
       "       [1300,  990],\n",
       "       [1000, 1112],\n",
       "       [1600, 1252],\n",
       "       [1600, 1326],\n",
       "       [1600, 1330],\n",
       "       [1600, 1365],\n",
       "       [2200, 1280],\n",
       "       [1600, 1119],\n",
       "       [2000, 1328],\n",
       "       [1600, 1584],\n",
       "       [2000, 1428],\n",
       "       [2100, 1365],\n",
       "       [1600, 1415],\n",
       "       [2000, 1415],\n",
       "       [1500, 1465],\n",
       "       [2000, 1490],\n",
       "       [2000, 1725],\n",
       "       [1600, 1523],\n",
       "       [2000, 1705],\n",
       "       [2100, 1605],\n",
       "       [2000, 1746],\n",
       "       [1600, 1235],\n",
       "       [1600, 1390],\n",
       "       [1600, 1405],\n",
       "       [2500, 1395]], dtype=int64)"
      ]
     },
     "execution_count": 33,
     "metadata": {},
     "output_type": "execute_result"
    }
   ],
   "source": [
    "x"
   ]
  },
  {
   "cell_type": "code",
   "execution_count": 34,
   "id": "b0b47963",
   "metadata": {},
   "outputs": [
    {
     "data": {
      "text/plain": [
       "array([ 99,  95,  95,  90, 105, 105,  90,  92,  98,  99,  99, 101,  99,\n",
       "        94,  97,  97,  99, 104, 104, 105,  94,  99,  99,  99,  99, 102,\n",
       "       104, 114, 109, 114, 115, 117, 104, 108, 109, 120], dtype=int64)"
      ]
     },
     "execution_count": 34,
     "metadata": {},
     "output_type": "execute_result"
    }
   ],
   "source": [
    "y"
   ]
  },
  {
   "cell_type": "markdown",
   "id": "7fff9578",
   "metadata": {},
   "source": [
    "#### MLR using statsmodels"
   ]
  },
  {
   "cell_type": "code",
   "execution_count": 35,
   "id": "6450a3a9",
   "metadata": {},
   "outputs": [],
   "source": [
    "import statsmodels.api as sm"
   ]
  },
  {
   "cell_type": "code",
   "execution_count": 36,
   "id": "29b32347",
   "metadata": {},
   "outputs": [],
   "source": [
    "x_stat = sm.add_constant(x)"
   ]
  },
  {
   "cell_type": "code",
   "execution_count": 37,
   "id": "e5a4e141",
   "metadata": {},
   "outputs": [
    {
     "data": {
      "text/plain": [
       "array([[1.000e+00, 1.000e+03, 7.900e+02],\n",
       "       [1.000e+00, 1.200e+03, 1.160e+03],\n",
       "       [1.000e+00, 1.000e+03, 9.290e+02],\n",
       "       [1.000e+00, 9.000e+02, 8.650e+02],\n",
       "       [1.000e+00, 1.500e+03, 1.140e+03],\n",
       "       [1.000e+00, 1.000e+03, 9.290e+02],\n",
       "       [1.000e+00, 1.400e+03, 1.109e+03],\n",
       "       [1.000e+00, 1.500e+03, 1.365e+03],\n",
       "       [1.000e+00, 1.500e+03, 1.112e+03],\n",
       "       [1.000e+00, 1.600e+03, 1.150e+03],\n",
       "       [1.000e+00, 1.100e+03, 9.800e+02],\n",
       "       [1.000e+00, 1.300e+03, 9.900e+02],\n",
       "       [1.000e+00, 1.000e+03, 1.112e+03],\n",
       "       [1.000e+00, 1.600e+03, 1.252e+03],\n",
       "       [1.000e+00, 1.600e+03, 1.326e+03],\n",
       "       [1.000e+00, 1.600e+03, 1.330e+03],\n",
       "       [1.000e+00, 1.600e+03, 1.365e+03],\n",
       "       [1.000e+00, 2.200e+03, 1.280e+03],\n",
       "       [1.000e+00, 1.600e+03, 1.119e+03],\n",
       "       [1.000e+00, 2.000e+03, 1.328e+03],\n",
       "       [1.000e+00, 1.600e+03, 1.584e+03],\n",
       "       [1.000e+00, 2.000e+03, 1.428e+03],\n",
       "       [1.000e+00, 2.100e+03, 1.365e+03],\n",
       "       [1.000e+00, 1.600e+03, 1.415e+03],\n",
       "       [1.000e+00, 2.000e+03, 1.415e+03],\n",
       "       [1.000e+00, 1.500e+03, 1.465e+03],\n",
       "       [1.000e+00, 2.000e+03, 1.490e+03],\n",
       "       [1.000e+00, 2.000e+03, 1.725e+03],\n",
       "       [1.000e+00, 1.600e+03, 1.523e+03],\n",
       "       [1.000e+00, 2.000e+03, 1.705e+03],\n",
       "       [1.000e+00, 2.100e+03, 1.605e+03],\n",
       "       [1.000e+00, 2.000e+03, 1.746e+03],\n",
       "       [1.000e+00, 1.600e+03, 1.235e+03],\n",
       "       [1.000e+00, 1.600e+03, 1.390e+03],\n",
       "       [1.000e+00, 1.600e+03, 1.405e+03],\n",
       "       [1.000e+00, 2.500e+03, 1.395e+03]])"
      ]
     },
     "execution_count": 37,
     "metadata": {},
     "output_type": "execute_result"
    }
   ],
   "source": [
    "x_stat"
   ]
  },
  {
   "cell_type": "code",
   "execution_count": 38,
   "id": "cccadf8d",
   "metadata": {},
   "outputs": [],
   "source": [
    "MLR=sm.OLS(y,x_stat).fit()"
   ]
  },
  {
   "cell_type": "code",
   "execution_count": 39,
   "id": "ad820a27",
   "metadata": {},
   "outputs": [
    {
     "data": {
      "text/html": [
       "<table class=\"simpletable\">\n",
       "<caption>OLS Regression Results</caption>\n",
       "<tr>\n",
       "  <th>Dep. Variable:</th>            <td>y</td>        <th>  R-squared:         </th> <td>   0.377</td>\n",
       "</tr>\n",
       "<tr>\n",
       "  <th>Model:</th>                   <td>OLS</td>       <th>  Adj. R-squared:    </th> <td>   0.339</td>\n",
       "</tr>\n",
       "<tr>\n",
       "  <th>Method:</th>             <td>Least Squares</td>  <th>  F-statistic:       </th> <td>   9.966</td>\n",
       "</tr>\n",
       "<tr>\n",
       "  <th>Date:</th>             <td>Wed, 12 Jul 2023</td> <th>  Prob (F-statistic):</th> <td>0.000411</td>\n",
       "</tr>\n",
       "<tr>\n",
       "  <th>Time:</th>                 <td>10:14:32</td>     <th>  Log-Likelihood:    </th> <td> -114.39</td>\n",
       "</tr>\n",
       "<tr>\n",
       "  <th>No. Observations:</th>      <td>    36</td>      <th>  AIC:               </th> <td>   234.8</td>\n",
       "</tr>\n",
       "<tr>\n",
       "  <th>Df Residuals:</th>          <td>    33</td>      <th>  BIC:               </th> <td>   239.5</td>\n",
       "</tr>\n",
       "<tr>\n",
       "  <th>Df Model:</th>              <td>     2</td>      <th>                     </th>     <td> </td>   \n",
       "</tr>\n",
       "<tr>\n",
       "  <th>Covariance Type:</th>      <td>nonrobust</td>    <th>                     </th>     <td> </td>   \n",
       "</tr>\n",
       "</table>\n",
       "<table class=\"simpletable\">\n",
       "<tr>\n",
       "    <td></td>       <th>coef</th>     <th>std err</th>      <th>t</th>      <th>P>|t|</th>  <th>[0.025</th>    <th>0.975]</th>  \n",
       "</tr>\n",
       "<tr>\n",
       "  <th>const</th> <td>   79.6947</td> <td>    5.564</td> <td>   14.322</td> <td> 0.000</td> <td>   68.374</td> <td>   91.016</td>\n",
       "</tr>\n",
       "<tr>\n",
       "  <th>x1</th>    <td>    0.0078</td> <td>    0.004</td> <td>    1.948</td> <td> 0.060</td> <td>   -0.000</td> <td>    0.016</td>\n",
       "</tr>\n",
       "<tr>\n",
       "  <th>x2</th>    <td>    0.0076</td> <td>    0.006</td> <td>    1.173</td> <td> 0.249</td> <td>   -0.006</td> <td>    0.021</td>\n",
       "</tr>\n",
       "</table>\n",
       "<table class=\"simpletable\">\n",
       "<tr>\n",
       "  <th>Omnibus:</th>       <td> 4.957</td> <th>  Durbin-Watson:     </th> <td>   0.944</td>\n",
       "</tr>\n",
       "<tr>\n",
       "  <th>Prob(Omnibus):</th> <td> 0.084</td> <th>  Jarque-Bera (JB):  </th> <td>   1.836</td>\n",
       "</tr>\n",
       "<tr>\n",
       "  <th>Skew:</th>          <td>-0.025</td> <th>  Prob(JB):          </th> <td>   0.399</td>\n",
       "</tr>\n",
       "<tr>\n",
       "  <th>Kurtosis:</th>      <td> 1.895</td> <th>  Cond. No.          </th> <td>1.16e+04</td>\n",
       "</tr>\n",
       "</table><br/><br/>Notes:<br/>[1] Standard Errors assume that the covariance matrix of the errors is correctly specified.<br/>[2] The condition number is large, 1.16e+04. This might indicate that there are<br/>strong multicollinearity or other numerical problems."
      ],
      "text/plain": [
       "<class 'statsmodels.iolib.summary.Summary'>\n",
       "\"\"\"\n",
       "                            OLS Regression Results                            \n",
       "==============================================================================\n",
       "Dep. Variable:                      y   R-squared:                       0.377\n",
       "Model:                            OLS   Adj. R-squared:                  0.339\n",
       "Method:                 Least Squares   F-statistic:                     9.966\n",
       "Date:                Wed, 12 Jul 2023   Prob (F-statistic):           0.000411\n",
       "Time:                        10:14:32   Log-Likelihood:                -114.39\n",
       "No. Observations:                  36   AIC:                             234.8\n",
       "Df Residuals:                      33   BIC:                             239.5\n",
       "Df Model:                           2                                         \n",
       "Covariance Type:            nonrobust                                         \n",
       "==============================================================================\n",
       "                 coef    std err          t      P>|t|      [0.025      0.975]\n",
       "------------------------------------------------------------------------------\n",
       "const         79.6947      5.564     14.322      0.000      68.374      91.016\n",
       "x1             0.0078      0.004      1.948      0.060      -0.000       0.016\n",
       "x2             0.0076      0.006      1.173      0.249      -0.006       0.021\n",
       "==============================================================================\n",
       "Omnibus:                        4.957   Durbin-Watson:                   0.944\n",
       "Prob(Omnibus):                  0.084   Jarque-Bera (JB):                1.836\n",
       "Skew:                          -0.025   Prob(JB):                        0.399\n",
       "Kurtosis:                       1.895   Cond. No.                     1.16e+04\n",
       "==============================================================================\n",
       "\n",
       "Notes:\n",
       "[1] Standard Errors assume that the covariance matrix of the errors is correctly specified.\n",
       "[2] The condition number is large, 1.16e+04. This might indicate that there are\n",
       "strong multicollinearity or other numerical problems.\n",
       "\"\"\""
      ]
     },
     "execution_count": 39,
     "metadata": {},
     "output_type": "execute_result"
    }
   ],
   "source": [
    "MLR.summary()"
   ]
  },
  {
   "cell_type": "markdown",
   "id": "48594abb",
   "metadata": {},
   "source": [
    "#### Making the predictions"
   ]
  },
  {
   "cell_type": "code",
   "execution_count": 40,
   "id": "5adf5b91",
   "metadata": {},
   "outputs": [
    {
     "data": {
      "text/plain": [
       "array([ 93.46522516,  97.82012716,  94.51480683,  93.25102045,\n",
       "       100.01068547,  94.51480683,  98.99608035, 101.70964861,\n",
       "        99.79925895, 100.8667207 ,  95.6804309 ,  97.31699187,\n",
       "        95.89663018, 101.63691732, 102.19568742, 102.22589121,\n",
       "       102.49017436, 106.53149836, 100.63264133, 105.33289232,\n",
       "       104.14383181, 106.08798705, 106.39280312, 102.86772172,\n",
       "       105.98982473, 102.46474333, 106.55614578, 108.33061839,\n",
       "       103.68322403, 108.17959944, 108.20503047, 108.48918828,\n",
       "       101.50855121, 102.67894804, 102.79221225, 109.74143455])"
      ]
     },
     "execution_count": 40,
     "metadata": {},
     "output_type": "execute_result"
    }
   ],
   "source": [
    "MLR.predict(x_stat)"
   ]
  },
  {
   "cell_type": "markdown",
   "id": "1e2ff4cd",
   "metadata": {},
   "source": [
    "#### statsmodel.formula.api"
   ]
  },
  {
   "cell_type": "code",
   "execution_count": 41,
   "id": "b8883adc",
   "metadata": {},
   "outputs": [],
   "source": [
    "import statsmodels.formula.api as smf"
   ]
  },
  {
   "cell_type": "code",
   "execution_count": 42,
   "id": "58c7ee4d",
   "metadata": {},
   "outputs": [],
   "source": [
    "model_smf = smf.ols(formula='CO2 ~ Weight+Volume', data=data)"
   ]
  },
  {
   "cell_type": "code",
   "execution_count": 43,
   "id": "752be2e8",
   "metadata": {},
   "outputs": [],
   "source": [
    "result_smf = model_smf.fit()"
   ]
  },
  {
   "cell_type": "code",
   "execution_count": 44,
   "id": "b01383cd",
   "metadata": {},
   "outputs": [
    {
     "data": {
      "text/html": [
       "<table class=\"simpletable\">\n",
       "<caption>OLS Regression Results</caption>\n",
       "<tr>\n",
       "  <th>Dep. Variable:</th>           <td>CO2</td>       <th>  R-squared:         </th> <td>   0.377</td>\n",
       "</tr>\n",
       "<tr>\n",
       "  <th>Model:</th>                   <td>OLS</td>       <th>  Adj. R-squared:    </th> <td>   0.339</td>\n",
       "</tr>\n",
       "<tr>\n",
       "  <th>Method:</th>             <td>Least Squares</td>  <th>  F-statistic:       </th> <td>   9.966</td>\n",
       "</tr>\n",
       "<tr>\n",
       "  <th>Date:</th>             <td>Wed, 12 Jul 2023</td> <th>  Prob (F-statistic):</th> <td>0.000411</td>\n",
       "</tr>\n",
       "<tr>\n",
       "  <th>Time:</th>                 <td>10:14:32</td>     <th>  Log-Likelihood:    </th> <td> -114.39</td>\n",
       "</tr>\n",
       "<tr>\n",
       "  <th>No. Observations:</th>      <td>    36</td>      <th>  AIC:               </th> <td>   234.8</td>\n",
       "</tr>\n",
       "<tr>\n",
       "  <th>Df Residuals:</th>          <td>    33</td>      <th>  BIC:               </th> <td>   239.5</td>\n",
       "</tr>\n",
       "<tr>\n",
       "  <th>Df Model:</th>              <td>     2</td>      <th>                     </th>     <td> </td>   \n",
       "</tr>\n",
       "<tr>\n",
       "  <th>Covariance Type:</th>      <td>nonrobust</td>    <th>                     </th>     <td> </td>   \n",
       "</tr>\n",
       "</table>\n",
       "<table class=\"simpletable\">\n",
       "<tr>\n",
       "      <td></td>         <th>coef</th>     <th>std err</th>      <th>t</th>      <th>P>|t|</th>  <th>[0.025</th>    <th>0.975]</th>  \n",
       "</tr>\n",
       "<tr>\n",
       "  <th>Intercept</th> <td>   79.6947</td> <td>    5.564</td> <td>   14.322</td> <td> 0.000</td> <td>   68.374</td> <td>   91.016</td>\n",
       "</tr>\n",
       "<tr>\n",
       "  <th>Weight</th>    <td>    0.0076</td> <td>    0.006</td> <td>    1.173</td> <td> 0.249</td> <td>   -0.006</td> <td>    0.021</td>\n",
       "</tr>\n",
       "<tr>\n",
       "  <th>Volume</th>    <td>    0.0078</td> <td>    0.004</td> <td>    1.948</td> <td> 0.060</td> <td>   -0.000</td> <td>    0.016</td>\n",
       "</tr>\n",
       "</table>\n",
       "<table class=\"simpletable\">\n",
       "<tr>\n",
       "  <th>Omnibus:</th>       <td> 4.957</td> <th>  Durbin-Watson:     </th> <td>   0.944</td>\n",
       "</tr>\n",
       "<tr>\n",
       "  <th>Prob(Omnibus):</th> <td> 0.084</td> <th>  Jarque-Bera (JB):  </th> <td>   1.836</td>\n",
       "</tr>\n",
       "<tr>\n",
       "  <th>Skew:</th>          <td>-0.025</td> <th>  Prob(JB):          </th> <td>   0.399</td>\n",
       "</tr>\n",
       "<tr>\n",
       "  <th>Kurtosis:</th>      <td> 1.895</td> <th>  Cond. No.          </th> <td>1.16e+04</td>\n",
       "</tr>\n",
       "</table><br/><br/>Notes:<br/>[1] Standard Errors assume that the covariance matrix of the errors is correctly specified.<br/>[2] The condition number is large, 1.16e+04. This might indicate that there are<br/>strong multicollinearity or other numerical problems."
      ],
      "text/plain": [
       "<class 'statsmodels.iolib.summary.Summary'>\n",
       "\"\"\"\n",
       "                            OLS Regression Results                            \n",
       "==============================================================================\n",
       "Dep. Variable:                    CO2   R-squared:                       0.377\n",
       "Model:                            OLS   Adj. R-squared:                  0.339\n",
       "Method:                 Least Squares   F-statistic:                     9.966\n",
       "Date:                Wed, 12 Jul 2023   Prob (F-statistic):           0.000411\n",
       "Time:                        10:14:32   Log-Likelihood:                -114.39\n",
       "No. Observations:                  36   AIC:                             234.8\n",
       "Df Residuals:                      33   BIC:                             239.5\n",
       "Df Model:                           2                                         \n",
       "Covariance Type:            nonrobust                                         \n",
       "==============================================================================\n",
       "                 coef    std err          t      P>|t|      [0.025      0.975]\n",
       "------------------------------------------------------------------------------\n",
       "Intercept     79.6947      5.564     14.322      0.000      68.374      91.016\n",
       "Weight         0.0076      0.006      1.173      0.249      -0.006       0.021\n",
       "Volume         0.0078      0.004      1.948      0.060      -0.000       0.016\n",
       "==============================================================================\n",
       "Omnibus:                        4.957   Durbin-Watson:                   0.944\n",
       "Prob(Omnibus):                  0.084   Jarque-Bera (JB):                1.836\n",
       "Skew:                          -0.025   Prob(JB):                        0.399\n",
       "Kurtosis:                       1.895   Cond. No.                     1.16e+04\n",
       "==============================================================================\n",
       "\n",
       "Notes:\n",
       "[1] Standard Errors assume that the covariance matrix of the errors is correctly specified.\n",
       "[2] The condition number is large, 1.16e+04. This might indicate that there are\n",
       "strong multicollinearity or other numerical problems.\n",
       "\"\"\""
      ]
     },
     "execution_count": 44,
     "metadata": {},
     "output_type": "execute_result"
    }
   ],
   "source": [
    "result_smf.summary()"
   ]
  },
  {
   "cell_type": "code",
   "execution_count": 45,
   "id": "881a53b3",
   "metadata": {},
   "outputs": [],
   "source": [
    "y_pred_sm = result_smf.predict(data[['Volume','Weight']])"
   ]
  },
  {
   "cell_type": "code",
   "execution_count": 46,
   "id": "838d338c",
   "metadata": {},
   "outputs": [
    {
     "data": {
      "text/plain": [
       "0      93.465225\n",
       "1      97.820127\n",
       "2      94.514807\n",
       "3      93.251020\n",
       "4     100.010685\n",
       "5      94.514807\n",
       "6      98.996080\n",
       "7     101.709649\n",
       "8      99.799259\n",
       "9     100.866721\n",
       "10     95.680431\n",
       "11     97.316992\n",
       "12     95.896630\n",
       "13    101.636917\n",
       "14    102.195687\n",
       "15    102.225891\n",
       "16    102.490174\n",
       "17    106.531498\n",
       "18    100.632641\n",
       "19    105.332892\n",
       "20    104.143832\n",
       "21    106.087987\n",
       "22    106.392803\n",
       "23    102.867722\n",
       "24    105.989825\n",
       "25    102.464743\n",
       "26    106.556146\n",
       "27    108.330618\n",
       "28    103.683224\n",
       "29    108.179599\n",
       "30    108.205030\n",
       "31    108.489188\n",
       "32    101.508551\n",
       "33    102.678948\n",
       "34    102.792212\n",
       "35    109.741435\n",
       "dtype: float64"
      ]
     },
     "execution_count": 46,
     "metadata": {},
     "output_type": "execute_result"
    }
   ],
   "source": [
    "y_pred_sm"
   ]
  },
  {
   "cell_type": "markdown",
   "id": "282a7a0d",
   "metadata": {},
   "source": [
    "#### Regression using Scikit-Learn module"
   ]
  },
  {
   "cell_type": "markdown",
   "id": "6197a445",
   "metadata": {},
   "source": [
    "#### Importing the scikit-learn model"
   ]
  },
  {
   "cell_type": "code",
   "execution_count": 47,
   "id": "7d4302fe",
   "metadata": {},
   "outputs": [],
   "source": [
    "from sklearn.linear_model import LinearRegression"
   ]
  },
  {
   "cell_type": "markdown",
   "id": "29bcad15",
   "metadata": {},
   "source": [
    "#### Initialising the model"
   ]
  },
  {
   "cell_type": "code",
   "execution_count": 48,
   "id": "b6cf4e78",
   "metadata": {},
   "outputs": [],
   "source": [
    "LR = LinearRegression()"
   ]
  },
  {
   "cell_type": "markdown",
   "id": "762af478",
   "metadata": {},
   "source": [
    "#### Fitting the model to the algorithm"
   ]
  },
  {
   "cell_type": "code",
   "execution_count": 49,
   "id": "787a61e9",
   "metadata": {},
   "outputs": [
    {
     "data": {
      "text/plain": [
       "LinearRegression()"
      ]
     },
     "execution_count": 49,
     "metadata": {},
     "output_type": "execute_result"
    }
   ],
   "source": [
    "LR.fit(x, y)"
   ]
  },
  {
   "cell_type": "markdown",
   "id": "4c2711e6",
   "metadata": {},
   "source": [
    "#### Finding the coefficient"
   ]
  },
  {
   "cell_type": "code",
   "execution_count": 50,
   "id": "61c05d5b",
   "metadata": {},
   "outputs": [
    {
     "data": {
      "text/plain": [
       "array([0.00780526, 0.00755095])"
      ]
     },
     "execution_count": 50,
     "metadata": {},
     "output_type": "execute_result"
    }
   ],
   "source": [
    "LR.coef_"
   ]
  },
  {
   "cell_type": "markdown",
   "id": "3146b099",
   "metadata": {},
   "source": [
    "#### Finding the intercept"
   ]
  },
  {
   "cell_type": "code",
   "execution_count": 51,
   "id": "e6737205",
   "metadata": {},
   "outputs": [
    {
     "data": {
      "text/plain": [
       "79.6947192911594"
      ]
     },
     "execution_count": 51,
     "metadata": {},
     "output_type": "execute_result"
    }
   ],
   "source": [
    "LR.intercept_"
   ]
  },
  {
   "cell_type": "markdown",
   "id": "c5fa0e4b",
   "metadata": {},
   "source": [
    "#### Model Score"
   ]
  },
  {
   "cell_type": "code",
   "execution_count": 52,
   "id": "430ffae6",
   "metadata": {},
   "outputs": [
    {
     "data": {
      "text/plain": [
       "0.3765564043619989"
      ]
     },
     "execution_count": 52,
     "metadata": {},
     "output_type": "execute_result"
    }
   ],
   "source": [
    "LR.score(x,y)"
   ]
  },
  {
   "cell_type": "markdown",
   "id": "bd9136a4",
   "metadata": {},
   "source": [
    "#### Making predictions"
   ]
  },
  {
   "cell_type": "code",
   "execution_count": 53,
   "id": "06661bd5",
   "metadata": {},
   "outputs": [
    {
     "data": {
      "text/plain": [
       "array([93.46522516])"
      ]
     },
     "execution_count": 53,
     "metadata": {},
     "output_type": "execute_result"
    }
   ],
   "source": [
    "sample_prediction = LR.predict([[1000, 790]])\n",
    "sample_prediction"
   ]
  },
  {
   "cell_type": "markdown",
   "id": "4ba54476",
   "metadata": {},
   "source": [
    "#### Making predictions on entire 'x'"
   ]
  },
  {
   "cell_type": "code",
   "execution_count": 54,
   "id": "f68679c0",
   "metadata": {},
   "outputs": [],
   "source": [
    "y_pred = LR.predict(x)"
   ]
  },
  {
   "cell_type": "code",
   "execution_count": 55,
   "id": "69418b6e",
   "metadata": {},
   "outputs": [
    {
     "data": {
      "text/plain": [
       "array([ 93.46522516,  97.82012716,  94.51480683,  93.25102045,\n",
       "       100.01068547,  94.51480683,  98.99608035, 101.70964861,\n",
       "        99.79925895, 100.8667207 ,  95.6804309 ,  97.31699187,\n",
       "        95.89663018, 101.63691732, 102.19568742, 102.22589121,\n",
       "       102.49017436, 106.53149836, 100.63264133, 105.33289232,\n",
       "       104.14383181, 106.08798705, 106.39280312, 102.86772172,\n",
       "       105.98982473, 102.46474333, 106.55614578, 108.33061839,\n",
       "       103.68322403, 108.17959944, 108.20503047, 108.48918828,\n",
       "       101.50855121, 102.67894804, 102.79221225, 109.74143455])"
      ]
     },
     "execution_count": 55,
     "metadata": {},
     "output_type": "execute_result"
    }
   ],
   "source": [
    "y_pred"
   ]
  },
  {
   "cell_type": "code",
   "execution_count": 56,
   "id": "1eddefb7",
   "metadata": {},
   "outputs": [
    {
     "data": {
      "text/plain": [
       "0.3765564043619989"
      ]
     },
     "execution_count": 56,
     "metadata": {},
     "output_type": "execute_result"
    }
   ],
   "source": [
    "r2_score(y, y_pred)"
   ]
  },
  {
   "cell_type": "code",
   "execution_count": null,
   "id": "99df9241",
   "metadata": {},
   "outputs": [],
   "source": []
  }
 ],
 "metadata": {
  "kernelspec": {
   "display_name": "Python 3 (ipykernel)",
   "language": "python",
   "name": "python3"
  },
  "language_info": {
   "codemirror_mode": {
    "name": "ipython",
    "version": 3
   },
   "file_extension": ".py",
   "mimetype": "text/x-python",
   "name": "python",
   "nbconvert_exporter": "python",
   "pygments_lexer": "ipython3",
   "version": "3.9.13"
  }
 },
 "nbformat": 4,
 "nbformat_minor": 5
}
