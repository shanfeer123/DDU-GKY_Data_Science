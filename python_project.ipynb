{
 "cells": [
  {
   "cell_type": "markdown",
   "id": "fc13c885",
   "metadata": {},
   "source": [
    "### Python Project1-\n",
    "#### Design a Hospital Management System using Python classes to keep track of patient information, appointments, and billing. Your system should allow the addition of patients, doctors, scheduling appointments, generating bills, and maintaining records. Provide the necessary classes and methods to implement this system effectively."
   ]
  },
  {
   "cell_type": "code",
   "execution_count": 2,
   "id": "eadf621c",
   "metadata": {},
   "outputs": [
    {
     "ename": "NameError",
     "evalue": "name 'Patient' is not defined",
     "output_type": "error",
     "traceback": [
      "\u001b[1;31m---------------------------------------------------------------------------\u001b[0m",
      "\u001b[1;31mNameError\u001b[0m                                 Traceback (most recent call last)",
      "\u001b[1;32m~\\AppData\\Local\\Temp\\ipykernel_9308\\3619483953.py\u001b[0m in \u001b[0;36m<module>\u001b[1;34m\u001b[0m\n\u001b[0;32m     55\u001b[0m \u001b[0mdoctor2\u001b[0m\u001b[1;33m=\u001b[0m\u001b[0mhospital\u001b[0m\u001b[1;33m.\u001b[0m\u001b[0madd_doctor\u001b[0m\u001b[1;33m(\u001b[0m\u001b[1;34m\"Dr.Shanfeer\"\u001b[0m\u001b[1;33m,\u001b[0m\u001b[1;34m\"Gynacology\"\u001b[0m\u001b[1;33m,\u001b[0m\u001b[1;36m800\u001b[0m\u001b[1;33m)\u001b[0m\u001b[1;33m\u001b[0m\u001b[1;33m\u001b[0m\u001b[0m\n\u001b[0;32m     56\u001b[0m \u001b[1;33m\u001b[0m\u001b[0m\n\u001b[1;32m---> 57\u001b[1;33m \u001b[0mpatient1\u001b[0m \u001b[1;33m=\u001b[0m \u001b[0mhospital\u001b[0m\u001b[1;33m.\u001b[0m\u001b[0madd_patient\u001b[0m\u001b[1;33m(\u001b[0m\u001b[1;34m\"Alice\"\u001b[0m\u001b[1;33m,\u001b[0m \u001b[1;36m24\u001b[0m\u001b[1;33m,\u001b[0m \u001b[1;34m\"Female\"\u001b[0m\u001b[1;33m,\u001b[0m \u001b[1;34m\"23-06-1999\"\u001b[0m\u001b[1;33m)\u001b[0m\u001b[1;33m\u001b[0m\u001b[1;33m\u001b[0m\u001b[0m\n\u001b[0m\u001b[0;32m     58\u001b[0m \u001b[0mpatient2\u001b[0m \u001b[1;33m=\u001b[0m \u001b[0mhospital\u001b[0m\u001b[1;33m.\u001b[0m\u001b[0madd_patient\u001b[0m\u001b[1;33m(\u001b[0m\u001b[1;34m\"gopu\"\u001b[0m\u001b[1;33m,\u001b[0m \u001b[1;36m25\u001b[0m\u001b[1;33m,\u001b[0m \u001b[1;34m\"female\"\u001b[0m\u001b[1;33m,\u001b[0m \u001b[1;34m\"7-04-2010\"\u001b[0m\u001b[1;33m)\u001b[0m\u001b[1;33m\u001b[0m\u001b[1;33m\u001b[0m\u001b[0m\n\u001b[0;32m     59\u001b[0m \u001b[1;33m\u001b[0m\u001b[0m\n",
      "\u001b[1;32m~\\AppData\\Local\\Temp\\ipykernel_9308\\3619483953.py\u001b[0m in \u001b[0;36madd_patient\u001b[1;34m(self, name, age, gender, contact)\u001b[0m\n\u001b[0;32m     42\u001b[0m \u001b[1;33m\u001b[0m\u001b[0m\n\u001b[0;32m     43\u001b[0m     \u001b[1;32mdef\u001b[0m \u001b[0madd_patient\u001b[0m\u001b[1;33m(\u001b[0m\u001b[0mself\u001b[0m\u001b[1;33m,\u001b[0m \u001b[0mname\u001b[0m\u001b[1;33m,\u001b[0m \u001b[0mage\u001b[0m\u001b[1;33m,\u001b[0m \u001b[0mgender\u001b[0m\u001b[1;33m,\u001b[0m \u001b[0mcontact\u001b[0m\u001b[1;33m)\u001b[0m\u001b[1;33m:\u001b[0m\u001b[1;33m\u001b[0m\u001b[1;33m\u001b[0m\u001b[0m\n\u001b[1;32m---> 44\u001b[1;33m         \u001b[0mpatient\u001b[0m \u001b[1;33m=\u001b[0m \u001b[0mPatient\u001b[0m\u001b[1;33m(\u001b[0m\u001b[0mname\u001b[0m\u001b[1;33m,\u001b[0m \u001b[0mage\u001b[0m\u001b[1;33m,\u001b[0m \u001b[0mgender\u001b[0m\u001b[1;33m,\u001b[0m \u001b[0mcontact\u001b[0m\u001b[1;33m)\u001b[0m\u001b[1;33m\u001b[0m\u001b[1;33m\u001b[0m\u001b[0m\n\u001b[0m\u001b[0;32m     45\u001b[0m         \u001b[0mself\u001b[0m\u001b[1;33m.\u001b[0m\u001b[0mpatients\u001b[0m\u001b[1;33m.\u001b[0m\u001b[0mappend\u001b[0m\u001b[1;33m(\u001b[0m\u001b[0mpatient\u001b[0m\u001b[1;33m)\u001b[0m\u001b[1;33m\u001b[0m\u001b[1;33m\u001b[0m\u001b[0m\n\u001b[0;32m     46\u001b[0m         \u001b[1;32mreturn\u001b[0m \u001b[0mpatient\u001b[0m\u001b[1;33m\u001b[0m\u001b[1;33m\u001b[0m\u001b[0m\n",
      "\u001b[1;31mNameError\u001b[0m: name 'Patient' is not defined"
     ]
    }
   ],
   "source": [
    "class patients:\n",
    "    def __init__(self,name,age,gender,contact):\n",
    "        self.name=name\n",
    "        self.age=age\n",
    "        self.gender=gender\n",
    "        self.contact=contact\n",
    "        self.appointments=[]\n",
    "        \n",
    "    def scheduling_appointments(self):\n",
    "        appointment=Appointment(self,doctor,date,time)\n",
    "        self.appointments.append(appointment)\n",
    "        \n",
    "    def generating_bills(self):\n",
    "        total_amount=0\n",
    "        for appointment in self.appointments:\n",
    "            total_amount=total_amount+appointment.doctor.visit_fee\n",
    "        return total_amount\n",
    "    \n",
    "class Doctor:\n",
    "    def __init__(self,name,specialization,visit_fee):\n",
    "        self.name=name\n",
    "        self.specialization=specialization\n",
    "        self.visit_fee=visit_fee\n",
    "        self.appointments=[]\n",
    "        \n",
    "    def scheduling_appointments(self,patient,date,time):\n",
    "        appointment=Appointmnet(self,date,time)\n",
    "        patient.appointments.append(appointment)\n",
    "        self.appointments.append(appointment)\n",
    "        \n",
    "class Appointments:\n",
    "    def __init__(self,doctor,date,time):\n",
    "        self.doctor=doctor\n",
    "        self.date=date\n",
    "        self.time=time\n",
    "        \n",
    "class Hospital:\n",
    "    def __init__(self,name):\n",
    "        self.name=name\n",
    "        self.doctors=[]\n",
    "        self.patients=[]\n",
    "        \n",
    "    def add_patient(self, name, age, gender, contact):\n",
    "        patient = Patient(name, age, gender, contact)\n",
    "        self.patients.append(patient)\n",
    "        return patient\n",
    "    \n",
    "    def add_doctor(self, name, specialization, visit_fee):\n",
    "        doctor = Doctor(name, specialization, visit_fee)\n",
    "        self.doctors.append(doctor)\n",
    "        return doctor\n",
    "    \n",
    "hospital=Hospital(\"sunrise hospital\")  \n",
    "doctor1=hospital.add_doctor(\"Dr.sethu\",\"cardiology\",500)\n",
    "doctor2=hospital.add_doctor(\"Dr.Shanfeer\",\"Gynacology\",800)\n",
    "\n",
    "patient1 = hospital.add_patient(\"Alice\", 24, \"Female\", \"23-06-1999\")\n",
    "patient2 = hospital.add_patient(\"gopu\", 25, \"female\", \"7-04-2010\")\n",
    "\n",
    "patient1.schedule_appointment(doctor1, \"2023-08-15\", \"10:00 AM\")\n",
    "patient2.schedule_appointment(doctor2, \"2023-08-16\", \"2:30 PM\")\n",
    "\n",
    "\n",
    "print(\"Patient 1 Bill:\", patient1.generate_bill())\n",
    "print(\"Patient 2 Bill:\", patient2.generate_bill())\n",
    "    \n",
    "        "
   ]
  },
  {
   "cell_type": "code",
   "execution_count": null,
   "id": "a65b5399",
   "metadata": {},
   "outputs": [],
   "source": []
  }
 ],
 "metadata": {
  "kernelspec": {
   "display_name": "Python 3 (ipykernel)",
   "language": "python",
   "name": "python3"
  },
  "language_info": {
   "codemirror_mode": {
    "name": "ipython",
    "version": 3
   },
   "file_extension": ".py",
   "mimetype": "text/x-python",
   "name": "python",
   "nbconvert_exporter": "python",
   "pygments_lexer": "ipython3",
   "version": "3.9.13"
  }
 },
 "nbformat": 4,
 "nbformat_minor": 5
}
