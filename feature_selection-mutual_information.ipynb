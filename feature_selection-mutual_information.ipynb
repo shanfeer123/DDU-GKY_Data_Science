{
 "cells": [
  {
   "cell_type": "markdown",
   "id": "12cbc7fe",
   "metadata": {},
   "source": [
    "### Feature selection in Regression using Mutual Information"
   ]
  },
  {
   "cell_type": "code",
   "execution_count": 3,
   "id": "3482589f",
   "metadata": {},
   "outputs": [],
   "source": [
    "import pandas as pd\n",
    "import numpy as np\n",
    "import matplotlib.pyplot as plt\n",
    "from sklearn.feature_selection import SelectKBest, mutual_info_regression\n",
    "from sklearn.model_selection import train_test_split\n",
    "from sklearn.metrics import r2_score, mean_absolute_error, mean_squared_error\n",
    "from sklearn.linear_model import LinearRegression, Ridge\n",
    "from sklearn.tree import DecisionTreeRegressor\n",
    "from sklearn.ensemble import GradientBoostingRegressor, RandomForestRegressor,AdaBoostRegressor\n",
    "from sklearn.preprocessing import StandardScaler, LabelEncoder\n",
    "import warnings\n",
    "warnings.filterwarnings('ignore')"
   ]
  },
  {
   "cell_type": "code",
   "execution_count": 4,
   "id": "b5fa7600",
   "metadata": {},
   "outputs": [
    {
     "data": {
      "text/html": [
       "<div>\n",
       "<style scoped>\n",
       "    .dataframe tbody tr th:only-of-type {\n",
       "        vertical-align: middle;\n",
       "    }\n",
       "\n",
       "    .dataframe tbody tr th {\n",
       "        vertical-align: top;\n",
       "    }\n",
       "\n",
       "    .dataframe thead th {\n",
       "        text-align: right;\n",
       "    }\n",
       "</style>\n",
       "<table border=\"1\" class=\"dataframe\">\n",
       "  <thead>\n",
       "    <tr style=\"text-align: right;\">\n",
       "      <th></th>\n",
       "      <th>Price</th>\n",
       "      <th>Age</th>\n",
       "      <th>KM</th>\n",
       "      <th>FuelType</th>\n",
       "      <th>HP</th>\n",
       "      <th>MetColor</th>\n",
       "      <th>Automatic</th>\n",
       "      <th>CC</th>\n",
       "      <th>Doors</th>\n",
       "      <th>Weight</th>\n",
       "    </tr>\n",
       "  </thead>\n",
       "  <tbody>\n",
       "    <tr>\n",
       "      <th>0</th>\n",
       "      <td>13500</td>\n",
       "      <td>23.0</td>\n",
       "      <td>46986</td>\n",
       "      <td>Diesel</td>\n",
       "      <td>90</td>\n",
       "      <td>1</td>\n",
       "      <td>0</td>\n",
       "      <td>2000.0</td>\n",
       "      <td>3</td>\n",
       "      <td>1165.0</td>\n",
       "    </tr>\n",
       "    <tr>\n",
       "      <th>1</th>\n",
       "      <td>13750</td>\n",
       "      <td>23.0</td>\n",
       "      <td>72937</td>\n",
       "      <td>Diesel</td>\n",
       "      <td>90</td>\n",
       "      <td>1</td>\n",
       "      <td>0</td>\n",
       "      <td>2000.0</td>\n",
       "      <td>3</td>\n",
       "      <td>1165.0</td>\n",
       "    </tr>\n",
       "    <tr>\n",
       "      <th>2</th>\n",
       "      <td>13950</td>\n",
       "      <td>24.0</td>\n",
       "      <td>41711</td>\n",
       "      <td>Diesel</td>\n",
       "      <td>90</td>\n",
       "      <td>1</td>\n",
       "      <td>0</td>\n",
       "      <td>2000.0</td>\n",
       "      <td>3</td>\n",
       "      <td>1165.0</td>\n",
       "    </tr>\n",
       "    <tr>\n",
       "      <th>3</th>\n",
       "      <td>14950</td>\n",
       "      <td>26.0</td>\n",
       "      <td>48000</td>\n",
       "      <td>Diesel</td>\n",
       "      <td>90</td>\n",
       "      <td>0</td>\n",
       "      <td>0</td>\n",
       "      <td>2000.0</td>\n",
       "      <td>3</td>\n",
       "      <td>1165.0</td>\n",
       "    </tr>\n",
       "    <tr>\n",
       "      <th>4</th>\n",
       "      <td>13750</td>\n",
       "      <td>30.0</td>\n",
       "      <td>38500</td>\n",
       "      <td>Diesel</td>\n",
       "      <td>90</td>\n",
       "      <td>0</td>\n",
       "      <td>0</td>\n",
       "      <td>2000.0</td>\n",
       "      <td>3</td>\n",
       "      <td>1170.0</td>\n",
       "    </tr>\n",
       "    <tr>\n",
       "      <th>5</th>\n",
       "      <td>12950</td>\n",
       "      <td>32.0</td>\n",
       "      <td>61000</td>\n",
       "      <td>Diesel</td>\n",
       "      <td>90</td>\n",
       "      <td>0</td>\n",
       "      <td>0</td>\n",
       "      <td>2000.0</td>\n",
       "      <td>3</td>\n",
       "      <td>1170.0</td>\n",
       "    </tr>\n",
       "    <tr>\n",
       "      <th>6</th>\n",
       "      <td>16900</td>\n",
       "      <td>27.0</td>\n",
       "      <td>94612</td>\n",
       "      <td>Diesel</td>\n",
       "      <td>90</td>\n",
       "      <td>1</td>\n",
       "      <td>0</td>\n",
       "      <td>2000.0</td>\n",
       "      <td>3</td>\n",
       "      <td>1245.0</td>\n",
       "    </tr>\n",
       "    <tr>\n",
       "      <th>7</th>\n",
       "      <td>18600</td>\n",
       "      <td>30.0</td>\n",
       "      <td>75889</td>\n",
       "      <td>Diesel</td>\n",
       "      <td>90</td>\n",
       "      <td>1</td>\n",
       "      <td>0</td>\n",
       "      <td>2000.0</td>\n",
       "      <td>3</td>\n",
       "      <td>1245.0</td>\n",
       "    </tr>\n",
       "    <tr>\n",
       "      <th>8</th>\n",
       "      <td>21500</td>\n",
       "      <td>27.0</td>\n",
       "      <td>19700</td>\n",
       "      <td>Petrol</td>\n",
       "      <td>192</td>\n",
       "      <td>0</td>\n",
       "      <td>0</td>\n",
       "      <td>1800.0</td>\n",
       "      <td>3</td>\n",
       "      <td>1185.0</td>\n",
       "    </tr>\n",
       "    <tr>\n",
       "      <th>9</th>\n",
       "      <td>12950</td>\n",
       "      <td>23.0</td>\n",
       "      <td>71138</td>\n",
       "      <td>Diesel</td>\n",
       "      <td>69</td>\n",
       "      <td>0</td>\n",
       "      <td>0</td>\n",
       "      <td>1900.0</td>\n",
       "      <td>3</td>\n",
       "      <td>1105.0</td>\n",
       "    </tr>\n",
       "  </tbody>\n",
       "</table>\n",
       "</div>"
      ],
      "text/plain": [
       "   Price   Age     KM FuelType   HP  MetColor  Automatic      CC  Doors  \\\n",
       "0  13500  23.0  46986   Diesel   90         1          0  2000.0      3   \n",
       "1  13750  23.0  72937   Diesel   90         1          0  2000.0      3   \n",
       "2  13950  24.0  41711   Diesel   90         1          0  2000.0      3   \n",
       "3  14950  26.0  48000   Diesel   90         0          0  2000.0      3   \n",
       "4  13750  30.0  38500   Diesel   90         0          0  2000.0      3   \n",
       "5  12950  32.0  61000   Diesel   90         0          0  2000.0      3   \n",
       "6  16900  27.0  94612   Diesel   90         1          0  2000.0      3   \n",
       "7  18600  30.0  75889   Diesel   90         1          0  2000.0      3   \n",
       "8  21500  27.0  19700   Petrol  192         0          0  1800.0      3   \n",
       "9  12950  23.0  71138   Diesel   69         0          0  1900.0      3   \n",
       "\n",
       "   Weight  \n",
       "0  1165.0  \n",
       "1  1165.0  \n",
       "2  1165.0  \n",
       "3  1165.0  \n",
       "4  1170.0  \n",
       "5  1170.0  \n",
       "6  1245.0  \n",
       "7  1245.0  \n",
       "8  1185.0  \n",
       "9  1105.0  "
      ]
     },
     "execution_count": 4,
     "metadata": {},
     "output_type": "execute_result"
    }
   ],
   "source": [
    "data = pd.read_csv('./CarPricesData.csv')\n",
    "data.head(10)"
   ]
  },
  {
   "cell_type": "code",
   "execution_count": 5,
   "id": "6a12ed2d",
   "metadata": {},
   "outputs": [
    {
     "data": {
      "text/plain": [
       "Price        0.000000\n",
       "Age          0.139276\n",
       "KM           0.000000\n",
       "FuelType     0.278552\n",
       "HP           0.000000\n",
       "MetColor     0.000000\n",
       "Automatic    0.000000\n",
       "CC           0.139276\n",
       "Doors        0.000000\n",
       "Weight       0.139276\n",
       "dtype: float64"
      ]
     },
     "execution_count": 5,
     "metadata": {},
     "output_type": "execute_result"
    }
   ],
   "source": [
    "data.isnull().mean()*100"
   ]
  },
  {
   "cell_type": "code",
   "execution_count": 6,
   "id": "94fc2cff",
   "metadata": {},
   "outputs": [],
   "source": [
    "data.dropna(inplace=True)"
   ]
  },
  {
   "cell_type": "code",
   "execution_count": 8,
   "id": "adbd5aa7",
   "metadata": {},
   "outputs": [
    {
     "data": {
      "text/plain": [
       "1"
      ]
     },
     "execution_count": 8,
     "metadata": {},
     "output_type": "execute_result"
    }
   ],
   "source": [
    "data.duplicated().sum()"
   ]
  },
  {
   "cell_type": "code",
   "execution_count": 9,
   "id": "ba75567e",
   "metadata": {},
   "outputs": [],
   "source": [
    "data.drop_duplicates(inplace=True)"
   ]
  },
  {
   "cell_type": "code",
   "execution_count": 10,
   "id": "66c3c509",
   "metadata": {},
   "outputs": [],
   "source": [
    "le = LabelEncoder()"
   ]
  },
  {
   "cell_type": "code",
   "execution_count": 11,
   "id": "d7f6417f",
   "metadata": {},
   "outputs": [],
   "source": [
    "for i in data.columns:\n",
    "    if data[i].dtype == 'object':\n",
    "        data[i] = le.fit_transform(data[i])"
   ]
  },
  {
   "cell_type": "code",
   "execution_count": 12,
   "id": "afec504c",
   "metadata": {
    "scrolled": true
   },
   "outputs": [
    {
     "data": {
      "text/html": [
       "<div>\n",
       "<style scoped>\n",
       "    .dataframe tbody tr th:only-of-type {\n",
       "        vertical-align: middle;\n",
       "    }\n",
       "\n",
       "    .dataframe tbody tr th {\n",
       "        vertical-align: top;\n",
       "    }\n",
       "\n",
       "    .dataframe thead th {\n",
       "        text-align: right;\n",
       "    }\n",
       "</style>\n",
       "<table border=\"1\" class=\"dataframe\">\n",
       "  <thead>\n",
       "    <tr style=\"text-align: right;\">\n",
       "      <th></th>\n",
       "      <th>Price</th>\n",
       "      <th>Age</th>\n",
       "      <th>KM</th>\n",
       "      <th>FuelType</th>\n",
       "      <th>HP</th>\n",
       "      <th>MetColor</th>\n",
       "      <th>Automatic</th>\n",
       "      <th>CC</th>\n",
       "      <th>Doors</th>\n",
       "      <th>Weight</th>\n",
       "    </tr>\n",
       "  </thead>\n",
       "  <tbody>\n",
       "    <tr>\n",
       "      <th>29</th>\n",
       "      <td>17950</td>\n",
       "      <td>30.0</td>\n",
       "      <td>11090</td>\n",
       "      <td>2</td>\n",
       "      <td>110</td>\n",
       "      <td>1</td>\n",
       "      <td>0</td>\n",
       "      <td>1600.0</td>\n",
       "      <td>3</td>\n",
       "      <td>1120.0</td>\n",
       "    </tr>\n",
       "    <tr>\n",
       "      <th>1430</th>\n",
       "      <td>8450</td>\n",
       "      <td>80.0</td>\n",
       "      <td>23000</td>\n",
       "      <td>2</td>\n",
       "      <td>86</td>\n",
       "      <td>0</td>\n",
       "      <td>0</td>\n",
       "      <td>1300.0</td>\n",
       "      <td>3</td>\n",
       "      <td>1015.0</td>\n",
       "    </tr>\n",
       "    <tr>\n",
       "      <th>680</th>\n",
       "      <td>7950</td>\n",
       "      <td>61.0</td>\n",
       "      <td>102106</td>\n",
       "      <td>2</td>\n",
       "      <td>110</td>\n",
       "      <td>0</td>\n",
       "      <td>0</td>\n",
       "      <td>1600.0</td>\n",
       "      <td>3</td>\n",
       "      <td>1050.0</td>\n",
       "    </tr>\n",
       "    <tr>\n",
       "      <th>476</th>\n",
       "      <td>10250</td>\n",
       "      <td>54.0</td>\n",
       "      <td>63792</td>\n",
       "      <td>2</td>\n",
       "      <td>110</td>\n",
       "      <td>1</td>\n",
       "      <td>0</td>\n",
       "      <td>1600.0</td>\n",
       "      <td>5</td>\n",
       "      <td>1075.0</td>\n",
       "    </tr>\n",
       "    <tr>\n",
       "      <th>1212</th>\n",
       "      <td>8250</td>\n",
       "      <td>72.0</td>\n",
       "      <td>86860</td>\n",
       "      <td>2</td>\n",
       "      <td>110</td>\n",
       "      <td>0</td>\n",
       "      <td>0</td>\n",
       "      <td>1600.0</td>\n",
       "      <td>5</td>\n",
       "      <td>1075.0</td>\n",
       "    </tr>\n",
       "    <tr>\n",
       "      <th>895</th>\n",
       "      <td>8950</td>\n",
       "      <td>61.0</td>\n",
       "      <td>60532</td>\n",
       "      <td>2</td>\n",
       "      <td>110</td>\n",
       "      <td>1</td>\n",
       "      <td>0</td>\n",
       "      <td>1600.0</td>\n",
       "      <td>3</td>\n",
       "      <td>1050.0</td>\n",
       "    </tr>\n",
       "    <tr>\n",
       "      <th>430</th>\n",
       "      <td>12200</td>\n",
       "      <td>50.0</td>\n",
       "      <td>82805</td>\n",
       "      <td>2</td>\n",
       "      <td>110</td>\n",
       "      <td>1</td>\n",
       "      <td>0</td>\n",
       "      <td>1600.0</td>\n",
       "      <td>3</td>\n",
       "      <td>1040.0</td>\n",
       "    </tr>\n",
       "    <tr>\n",
       "      <th>1176</th>\n",
       "      <td>9250</td>\n",
       "      <td>80.0</td>\n",
       "      <td>93841</td>\n",
       "      <td>2</td>\n",
       "      <td>110</td>\n",
       "      <td>0</td>\n",
       "      <td>0</td>\n",
       "      <td>1600.0</td>\n",
       "      <td>5</td>\n",
       "      <td>1070.0</td>\n",
       "    </tr>\n",
       "    <tr>\n",
       "      <th>1211</th>\n",
       "      <td>8250</td>\n",
       "      <td>80.0</td>\n",
       "      <td>87000</td>\n",
       "      <td>2</td>\n",
       "      <td>86</td>\n",
       "      <td>1</td>\n",
       "      <td>0</td>\n",
       "      <td>1300.0</td>\n",
       "      <td>3</td>\n",
       "      <td>1015.0</td>\n",
       "    </tr>\n",
       "    <tr>\n",
       "      <th>265</th>\n",
       "      <td>11950</td>\n",
       "      <td>38.0</td>\n",
       "      <td>49500</td>\n",
       "      <td>2</td>\n",
       "      <td>110</td>\n",
       "      <td>1</td>\n",
       "      <td>0</td>\n",
       "      <td>1600.0</td>\n",
       "      <td>5</td>\n",
       "      <td>1075.0</td>\n",
       "    </tr>\n",
       "  </tbody>\n",
       "</table>\n",
       "</div>"
      ],
      "text/plain": [
       "      Price   Age      KM  FuelType   HP  MetColor  Automatic      CC  Doors  \\\n",
       "29    17950  30.0   11090         2  110         1          0  1600.0      3   \n",
       "1430   8450  80.0   23000         2   86         0          0  1300.0      3   \n",
       "680    7950  61.0  102106         2  110         0          0  1600.0      3   \n",
       "476   10250  54.0   63792         2  110         1          0  1600.0      5   \n",
       "1212   8250  72.0   86860         2  110         0          0  1600.0      5   \n",
       "895    8950  61.0   60532         2  110         1          0  1600.0      3   \n",
       "430   12200  50.0   82805         2  110         1          0  1600.0      3   \n",
       "1176   9250  80.0   93841         2  110         0          0  1600.0      5   \n",
       "1211   8250  80.0   87000         2   86         1          0  1300.0      3   \n",
       "265   11950  38.0   49500         2  110         1          0  1600.0      5   \n",
       "\n",
       "      Weight  \n",
       "29    1120.0  \n",
       "1430  1015.0  \n",
       "680   1050.0  \n",
       "476   1075.0  \n",
       "1212  1075.0  \n",
       "895   1050.0  \n",
       "430   1040.0  \n",
       "1176  1070.0  \n",
       "1211  1015.0  \n",
       "265   1075.0  "
      ]
     },
     "execution_count": 12,
     "metadata": {},
     "output_type": "execute_result"
    }
   ],
   "source": [
    "data.sample(10)"
   ]
  },
  {
   "cell_type": "markdown",
   "id": "da8daa64",
   "metadata": {},
   "source": [
    "#### Feature selection is performed using Information Gain."
   ]
  },
  {
   "cell_type": "markdown",
   "id": "f69a898a",
   "metadata": {},
   "source": [
    "#### Selecting the features and targets"
   ]
  },
  {
   "cell_type": "code",
   "execution_count": 13,
   "id": "406e4625",
   "metadata": {},
   "outputs": [],
   "source": [
    "x = data.iloc[:, 1:].values\n",
    "y = data.iloc[:, 0].values"
   ]
  },
  {
   "cell_type": "code",
   "execution_count": 14,
   "id": "94fafd61",
   "metadata": {},
   "outputs": [],
   "source": [
    "x_train, x_test, y_train, y_test = train_test_split(x, y, test_size=0.2, random_state=47, shuffle=True)"
   ]
  },
  {
   "cell_type": "markdown",
   "id": "fa289494",
   "metadata": {},
   "source": [
    "#### Defining feature selection with all features included"
   ]
  },
  {
   "cell_type": "code",
   "execution_count": 15,
   "id": "94ea309b",
   "metadata": {},
   "outputs": [],
   "source": [
    "fs = SelectKBest(score_func=mutual_info_regression, k='all')"
   ]
  },
  {
   "cell_type": "markdown",
   "id": "3f4400c8",
   "metadata": {},
   "source": [
    "#### Fitting the fs"
   ]
  },
  {
   "cell_type": "code",
   "execution_count": 16,
   "id": "fc396550",
   "metadata": {},
   "outputs": [
    {
     "data": {
      "text/plain": [
       "SelectKBest(k='all',\n",
       "            score_func=<function mutual_info_regression at 0x0000028782324AF0>)"
      ]
     },
     "execution_count": 16,
     "metadata": {},
     "output_type": "execute_result"
    }
   ],
   "source": [
    "fs.fit(x_train, y_train)"
   ]
  },
  {
   "cell_type": "markdown",
   "id": "f6da2234",
   "metadata": {},
   "source": [
    "#### Transorm the train and test data"
   ]
  },
  {
   "cell_type": "code",
   "execution_count": 17,
   "id": "24dc8cc8",
   "metadata": {},
   "outputs": [],
   "source": [
    "x_train_fs = fs.transform(x_train)\n",
    "x_test_fs = fs.transform(x_test)"
   ]
  },
  {
   "cell_type": "code",
   "execution_count": null,
   "id": "a60240c0",
   "metadata": {},
   "outputs": [],
   "source": []
  }
 ],
 "metadata": {
  "kernelspec": {
   "display_name": "Python 3 (ipykernel)",
   "language": "python",
   "name": "python3"
  },
  "language_info": {
   "codemirror_mode": {
    "name": "ipython",
    "version": 3
   },
   "file_extension": ".py",
   "mimetype": "text/x-python",
   "name": "python",
   "nbconvert_exporter": "python",
   "pygments_lexer": "ipython3",
   "version": "3.9.13"
  }
 },
 "nbformat": 4,
 "nbformat_minor": 5
}
