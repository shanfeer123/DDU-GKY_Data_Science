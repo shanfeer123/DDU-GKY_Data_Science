{
 "cells": [
  {
   "cell_type": "markdown",
   "id": "ca99089a",
   "metadata": {},
   "source": [
    "### Feature selection in Regression using Correlation"
   ]
  },
  {
   "cell_type": "markdown",
   "id": "1af4fba9",
   "metadata": {},
   "source": [
    "#### Loading the dependencies"
   ]
  },
  {
   "cell_type": "code",
   "execution_count": 1,
   "id": "7290b7e6",
   "metadata": {},
   "outputs": [],
   "source": [
    "import pandas as pd\n",
    "import numpy as np\n",
    "import matplotlib.pyplot as plt\n",
    "\n",
    "from sklearn.feature_selection import SelectKBest, f_regression\n",
    "from sklearn.model_selection import train_test_split\n",
    "from sklearn.metrics import r2_score, mean_absolute_error, mean_squared_error\n",
    "from sklearn.linear_model import LinearRegression, Ridge\n",
    "from sklearn.tree import DecisionTreeRegressor\n",
    "from sklearn.ensemble import GradientBoostingRegressor, RandomForestRegressor,AdaBoostRegressor\n",
    "from sklearn.preprocessing import StandardScaler, LabelEncoder\n",
    "\n",
    "import warnings\n",
    "warnings.filterwarnings('ignore')"
   ]
  },
  {
   "cell_type": "code",
   "execution_count": 2,
   "id": "8493460b",
   "metadata": {},
   "outputs": [
    {
     "data": {
      "text/html": [
       "<div>\n",
       "<style scoped>\n",
       "    .dataframe tbody tr th:only-of-type {\n",
       "        vertical-align: middle;\n",
       "    }\n",
       "\n",
       "    .dataframe tbody tr th {\n",
       "        vertical-align: top;\n",
       "    }\n",
       "\n",
       "    .dataframe thead th {\n",
       "        text-align: right;\n",
       "    }\n",
       "</style>\n",
       "<table border=\"1\" class=\"dataframe\">\n",
       "  <thead>\n",
       "    <tr style=\"text-align: right;\">\n",
       "      <th></th>\n",
       "      <th>Price</th>\n",
       "      <th>Age</th>\n",
       "      <th>KM</th>\n",
       "      <th>FuelType</th>\n",
       "      <th>HP</th>\n",
       "      <th>MetColor</th>\n",
       "      <th>Automatic</th>\n",
       "      <th>CC</th>\n",
       "      <th>Doors</th>\n",
       "      <th>Weight</th>\n",
       "    </tr>\n",
       "  </thead>\n",
       "  <tbody>\n",
       "    <tr>\n",
       "      <th>0</th>\n",
       "      <td>13500</td>\n",
       "      <td>23.0</td>\n",
       "      <td>46986</td>\n",
       "      <td>Diesel</td>\n",
       "      <td>90</td>\n",
       "      <td>1</td>\n",
       "      <td>0</td>\n",
       "      <td>2000.0</td>\n",
       "      <td>3</td>\n",
       "      <td>1165.0</td>\n",
       "    </tr>\n",
       "    <tr>\n",
       "      <th>1</th>\n",
       "      <td>13750</td>\n",
       "      <td>23.0</td>\n",
       "      <td>72937</td>\n",
       "      <td>Diesel</td>\n",
       "      <td>90</td>\n",
       "      <td>1</td>\n",
       "      <td>0</td>\n",
       "      <td>2000.0</td>\n",
       "      <td>3</td>\n",
       "      <td>1165.0</td>\n",
       "    </tr>\n",
       "    <tr>\n",
       "      <th>2</th>\n",
       "      <td>13950</td>\n",
       "      <td>24.0</td>\n",
       "      <td>41711</td>\n",
       "      <td>Diesel</td>\n",
       "      <td>90</td>\n",
       "      <td>1</td>\n",
       "      <td>0</td>\n",
       "      <td>2000.0</td>\n",
       "      <td>3</td>\n",
       "      <td>1165.0</td>\n",
       "    </tr>\n",
       "    <tr>\n",
       "      <th>3</th>\n",
       "      <td>14950</td>\n",
       "      <td>26.0</td>\n",
       "      <td>48000</td>\n",
       "      <td>Diesel</td>\n",
       "      <td>90</td>\n",
       "      <td>0</td>\n",
       "      <td>0</td>\n",
       "      <td>2000.0</td>\n",
       "      <td>3</td>\n",
       "      <td>1165.0</td>\n",
       "    </tr>\n",
       "    <tr>\n",
       "      <th>4</th>\n",
       "      <td>13750</td>\n",
       "      <td>30.0</td>\n",
       "      <td>38500</td>\n",
       "      <td>Diesel</td>\n",
       "      <td>90</td>\n",
       "      <td>0</td>\n",
       "      <td>0</td>\n",
       "      <td>2000.0</td>\n",
       "      <td>3</td>\n",
       "      <td>1170.0</td>\n",
       "    </tr>\n",
       "    <tr>\n",
       "      <th>5</th>\n",
       "      <td>12950</td>\n",
       "      <td>32.0</td>\n",
       "      <td>61000</td>\n",
       "      <td>Diesel</td>\n",
       "      <td>90</td>\n",
       "      <td>0</td>\n",
       "      <td>0</td>\n",
       "      <td>2000.0</td>\n",
       "      <td>3</td>\n",
       "      <td>1170.0</td>\n",
       "    </tr>\n",
       "    <tr>\n",
       "      <th>6</th>\n",
       "      <td>16900</td>\n",
       "      <td>27.0</td>\n",
       "      <td>94612</td>\n",
       "      <td>Diesel</td>\n",
       "      <td>90</td>\n",
       "      <td>1</td>\n",
       "      <td>0</td>\n",
       "      <td>2000.0</td>\n",
       "      <td>3</td>\n",
       "      <td>1245.0</td>\n",
       "    </tr>\n",
       "    <tr>\n",
       "      <th>7</th>\n",
       "      <td>18600</td>\n",
       "      <td>30.0</td>\n",
       "      <td>75889</td>\n",
       "      <td>Diesel</td>\n",
       "      <td>90</td>\n",
       "      <td>1</td>\n",
       "      <td>0</td>\n",
       "      <td>2000.0</td>\n",
       "      <td>3</td>\n",
       "      <td>1245.0</td>\n",
       "    </tr>\n",
       "    <tr>\n",
       "      <th>8</th>\n",
       "      <td>21500</td>\n",
       "      <td>27.0</td>\n",
       "      <td>19700</td>\n",
       "      <td>Petrol</td>\n",
       "      <td>192</td>\n",
       "      <td>0</td>\n",
       "      <td>0</td>\n",
       "      <td>1800.0</td>\n",
       "      <td>3</td>\n",
       "      <td>1185.0</td>\n",
       "    </tr>\n",
       "    <tr>\n",
       "      <th>9</th>\n",
       "      <td>12950</td>\n",
       "      <td>23.0</td>\n",
       "      <td>71138</td>\n",
       "      <td>Diesel</td>\n",
       "      <td>69</td>\n",
       "      <td>0</td>\n",
       "      <td>0</td>\n",
       "      <td>1900.0</td>\n",
       "      <td>3</td>\n",
       "      <td>1105.0</td>\n",
       "    </tr>\n",
       "  </tbody>\n",
       "</table>\n",
       "</div>"
      ],
      "text/plain": [
       "   Price   Age     KM FuelType   HP  MetColor  Automatic      CC  Doors  \\\n",
       "0  13500  23.0  46986   Diesel   90         1          0  2000.0      3   \n",
       "1  13750  23.0  72937   Diesel   90         1          0  2000.0      3   \n",
       "2  13950  24.0  41711   Diesel   90         1          0  2000.0      3   \n",
       "3  14950  26.0  48000   Diesel   90         0          0  2000.0      3   \n",
       "4  13750  30.0  38500   Diesel   90         0          0  2000.0      3   \n",
       "5  12950  32.0  61000   Diesel   90         0          0  2000.0      3   \n",
       "6  16900  27.0  94612   Diesel   90         1          0  2000.0      3   \n",
       "7  18600  30.0  75889   Diesel   90         1          0  2000.0      3   \n",
       "8  21500  27.0  19700   Petrol  192         0          0  1800.0      3   \n",
       "9  12950  23.0  71138   Diesel   69         0          0  1900.0      3   \n",
       "\n",
       "   Weight  \n",
       "0  1165.0  \n",
       "1  1165.0  \n",
       "2  1165.0  \n",
       "3  1165.0  \n",
       "4  1170.0  \n",
       "5  1170.0  \n",
       "6  1245.0  \n",
       "7  1245.0  \n",
       "8  1185.0  \n",
       "9  1105.0  "
      ]
     },
     "execution_count": 2,
     "metadata": {},
     "output_type": "execute_result"
    }
   ],
   "source": [
    "data = pd.read_csv('./CarPricesData.csv')\n",
    "data.head(10)"
   ]
  },
  {
   "cell_type": "code",
   "execution_count": 3,
   "id": "e8b16f48",
   "metadata": {},
   "outputs": [
    {
     "data": {
      "text/plain": [
       "Price        0.000000\n",
       "Age          0.139276\n",
       "KM           0.000000\n",
       "FuelType     0.278552\n",
       "HP           0.000000\n",
       "MetColor     0.000000\n",
       "Automatic    0.000000\n",
       "CC           0.139276\n",
       "Doors        0.000000\n",
       "Weight       0.139276\n",
       "dtype: float64"
      ]
     },
     "execution_count": 3,
     "metadata": {},
     "output_type": "execute_result"
    }
   ],
   "source": [
    "data.isnull().mean()*100"
   ]
  },
  {
   "cell_type": "code",
   "execution_count": 4,
   "id": "63609f9e",
   "metadata": {},
   "outputs": [],
   "source": [
    "data.dropna(inplace=True)"
   ]
  },
  {
   "cell_type": "code",
   "execution_count": 5,
   "id": "70a89ce7",
   "metadata": {},
   "outputs": [
    {
     "data": {
      "text/plain": [
       "1"
      ]
     },
     "execution_count": 5,
     "metadata": {},
     "output_type": "execute_result"
    }
   ],
   "source": [
    "data.duplicated().sum()"
   ]
  },
  {
   "cell_type": "code",
   "execution_count": 6,
   "id": "90335334",
   "metadata": {},
   "outputs": [],
   "source": [
    "data.drop_duplicates(inplace=True)"
   ]
  },
  {
   "cell_type": "code",
   "execution_count": 7,
   "id": "441f9cd8",
   "metadata": {},
   "outputs": [],
   "source": [
    "le = LabelEncoder()"
   ]
  },
  {
   "cell_type": "code",
   "execution_count": 8,
   "id": "d5cda0c5",
   "metadata": {},
   "outputs": [],
   "source": [
    "for i in data.columns:\n",
    "    if data[i].dtype == 'object':\n",
    "        data[i] = le.fit_transform(data[i])"
   ]
  },
  {
   "cell_type": "code",
   "execution_count": 9,
   "id": "6624db6b",
   "metadata": {},
   "outputs": [
    {
     "data": {
      "text/html": [
       "<div>\n",
       "<style scoped>\n",
       "    .dataframe tbody tr th:only-of-type {\n",
       "        vertical-align: middle;\n",
       "    }\n",
       "\n",
       "    .dataframe tbody tr th {\n",
       "        vertical-align: top;\n",
       "    }\n",
       "\n",
       "    .dataframe thead th {\n",
       "        text-align: right;\n",
       "    }\n",
       "</style>\n",
       "<table border=\"1\" class=\"dataframe\">\n",
       "  <thead>\n",
       "    <tr style=\"text-align: right;\">\n",
       "      <th></th>\n",
       "      <th>Price</th>\n",
       "      <th>Age</th>\n",
       "      <th>KM</th>\n",
       "      <th>FuelType</th>\n",
       "      <th>HP</th>\n",
       "      <th>MetColor</th>\n",
       "      <th>Automatic</th>\n",
       "      <th>CC</th>\n",
       "      <th>Doors</th>\n",
       "      <th>Weight</th>\n",
       "    </tr>\n",
       "  </thead>\n",
       "  <tbody>\n",
       "    <tr>\n",
       "      <th>841</th>\n",
       "      <td>8800</td>\n",
       "      <td>68.0</td>\n",
       "      <td>66550</td>\n",
       "      <td>2</td>\n",
       "      <td>86</td>\n",
       "      <td>0</td>\n",
       "      <td>0</td>\n",
       "      <td>1332.0</td>\n",
       "      <td>3</td>\n",
       "      <td>1010.0</td>\n",
       "    </tr>\n",
       "    <tr>\n",
       "      <th>455</th>\n",
       "      <td>9850</td>\n",
       "      <td>53.0</td>\n",
       "      <td>72000</td>\n",
       "      <td>2</td>\n",
       "      <td>97</td>\n",
       "      <td>1</td>\n",
       "      <td>0</td>\n",
       "      <td>1400.0</td>\n",
       "      <td>3</td>\n",
       "      <td>1025.0</td>\n",
       "    </tr>\n",
       "    <tr>\n",
       "      <th>645</th>\n",
       "      <td>8600</td>\n",
       "      <td>68.0</td>\n",
       "      <td>117955</td>\n",
       "      <td>2</td>\n",
       "      <td>110</td>\n",
       "      <td>1</td>\n",
       "      <td>1</td>\n",
       "      <td>1600.0</td>\n",
       "      <td>4</td>\n",
       "      <td>1065.0</td>\n",
       "    </tr>\n",
       "    <tr>\n",
       "      <th>1161</th>\n",
       "      <td>7950</td>\n",
       "      <td>77.0</td>\n",
       "      <td>98000</td>\n",
       "      <td>2</td>\n",
       "      <td>110</td>\n",
       "      <td>1</td>\n",
       "      <td>0</td>\n",
       "      <td>1600.0</td>\n",
       "      <td>5</td>\n",
       "      <td>1065.0</td>\n",
       "    </tr>\n",
       "    <tr>\n",
       "      <th>704</th>\n",
       "      <td>8450</td>\n",
       "      <td>65.0</td>\n",
       "      <td>93408</td>\n",
       "      <td>2</td>\n",
       "      <td>86</td>\n",
       "      <td>0</td>\n",
       "      <td>0</td>\n",
       "      <td>1300.0</td>\n",
       "      <td>3</td>\n",
       "      <td>1015.0</td>\n",
       "    </tr>\n",
       "    <tr>\n",
       "      <th>801</th>\n",
       "      <td>9995</td>\n",
       "      <td>61.0</td>\n",
       "      <td>73894</td>\n",
       "      <td>2</td>\n",
       "      <td>110</td>\n",
       "      <td>1</td>\n",
       "      <td>0</td>\n",
       "      <td>1600.0</td>\n",
       "      <td>3</td>\n",
       "      <td>1065.0</td>\n",
       "    </tr>\n",
       "    <tr>\n",
       "      <th>1291</th>\n",
       "      <td>7950</td>\n",
       "      <td>78.0</td>\n",
       "      <td>72000</td>\n",
       "      <td>2</td>\n",
       "      <td>110</td>\n",
       "      <td>0</td>\n",
       "      <td>0</td>\n",
       "      <td>1600.0</td>\n",
       "      <td>3</td>\n",
       "      <td>1055.0</td>\n",
       "    </tr>\n",
       "    <tr>\n",
       "      <th>334</th>\n",
       "      <td>12400</td>\n",
       "      <td>34.0</td>\n",
       "      <td>32431</td>\n",
       "      <td>2</td>\n",
       "      <td>97</td>\n",
       "      <td>1</td>\n",
       "      <td>0</td>\n",
       "      <td>1400.0</td>\n",
       "      <td>5</td>\n",
       "      <td>1060.0</td>\n",
       "    </tr>\n",
       "    <tr>\n",
       "      <th>837</th>\n",
       "      <td>9750</td>\n",
       "      <td>67.0</td>\n",
       "      <td>67110</td>\n",
       "      <td>2</td>\n",
       "      <td>86</td>\n",
       "      <td>1</td>\n",
       "      <td>0</td>\n",
       "      <td>1300.0</td>\n",
       "      <td>5</td>\n",
       "      <td>1035.0</td>\n",
       "    </tr>\n",
       "    <tr>\n",
       "      <th>399</th>\n",
       "      <td>10750</td>\n",
       "      <td>54.0</td>\n",
       "      <td>115558</td>\n",
       "      <td>2</td>\n",
       "      <td>110</td>\n",
       "      <td>1</td>\n",
       "      <td>0</td>\n",
       "      <td>1600.0</td>\n",
       "      <td>4</td>\n",
       "      <td>1035.0</td>\n",
       "    </tr>\n",
       "  </tbody>\n",
       "</table>\n",
       "</div>"
      ],
      "text/plain": [
       "      Price   Age      KM  FuelType   HP  MetColor  Automatic      CC  Doors  \\\n",
       "841    8800  68.0   66550         2   86         0          0  1332.0      3   \n",
       "455    9850  53.0   72000         2   97         1          0  1400.0      3   \n",
       "645    8600  68.0  117955         2  110         1          1  1600.0      4   \n",
       "1161   7950  77.0   98000         2  110         1          0  1600.0      5   \n",
       "704    8450  65.0   93408         2   86         0          0  1300.0      3   \n",
       "801    9995  61.0   73894         2  110         1          0  1600.0      3   \n",
       "1291   7950  78.0   72000         2  110         0          0  1600.0      3   \n",
       "334   12400  34.0   32431         2   97         1          0  1400.0      5   \n",
       "837    9750  67.0   67110         2   86         1          0  1300.0      5   \n",
       "399   10750  54.0  115558         2  110         1          0  1600.0      4   \n",
       "\n",
       "      Weight  \n",
       "841   1010.0  \n",
       "455   1025.0  \n",
       "645   1065.0  \n",
       "1161  1065.0  \n",
       "704   1015.0  \n",
       "801   1065.0  \n",
       "1291  1055.0  \n",
       "334   1060.0  \n",
       "837   1035.0  \n",
       "399   1035.0  "
      ]
     },
     "execution_count": 9,
     "metadata": {},
     "output_type": "execute_result"
    }
   ],
   "source": [
    "data.sample(10)"
   ]
  },
  {
   "cell_type": "markdown",
   "id": "d2021faf",
   "metadata": {},
   "source": [
    "#### Selecting the features and targets"
   ]
  },
  {
   "cell_type": "code",
   "execution_count": 10,
   "id": "a2775da0",
   "metadata": {},
   "outputs": [],
   "source": [
    "x = data.iloc[:, 1:].values\n",
    "y = data.iloc[:, 0].values"
   ]
  },
  {
   "cell_type": "markdown",
   "id": "103b3cec",
   "metadata": {},
   "source": [
    "#### Splitting the data into training and testing sets"
   ]
  },
  {
   "cell_type": "code",
   "execution_count": 11,
   "id": "1b52272a",
   "metadata": {},
   "outputs": [],
   "source": [
    "x_train, x_test, y_train, y_test = train_test_split(x, y, test_size=0.2, random_state=47, shuffle=True)"
   ]
  },
  {
   "cell_type": "markdown",
   "id": "9c8e5a97",
   "metadata": {},
   "source": [
    "### Checking model scores without feature selection"
   ]
  },
  {
   "cell_type": "code",
   "execution_count": 17,
   "id": "707a7135",
   "metadata": {},
   "outputs": [],
   "source": [
    "model = LinearRegression()"
   ]
  },
  {
   "cell_type": "code",
   "execution_count": 18,
   "id": "5c4cd11f",
   "metadata": {},
   "outputs": [
    {
     "data": {
      "text/plain": [
       "LinearRegression()"
      ]
     },
     "execution_count": 18,
     "metadata": {},
     "output_type": "execute_result"
    }
   ],
   "source": [
    "model.fit(x_train, y_train)"
   ]
  },
  {
   "cell_type": "code",
   "execution_count": 19,
   "id": "639908ba",
   "metadata": {},
   "outputs": [],
   "source": [
    "y_pred = model.predict(x_test)"
   ]
  },
  {
   "cell_type": "code",
   "execution_count": 20,
   "id": "bfaddfc8",
   "metadata": {},
   "outputs": [
    {
     "data": {
      "text/plain": [
       "0.8589933311181945"
      ]
     },
     "execution_count": 20,
     "metadata": {},
     "output_type": "execute_result"
    }
   ],
   "source": [
    "model.score(x_train, y_train)"
   ]
  },
  {
   "cell_type": "code",
   "execution_count": 21,
   "id": "24d49bd3",
   "metadata": {},
   "outputs": [
    {
     "data": {
      "text/plain": [
       "0.8767780339882709"
      ]
     },
     "execution_count": 21,
     "metadata": {},
     "output_type": "execute_result"
    }
   ],
   "source": [
    "model.score(x_test, y_test)"
   ]
  },
  {
   "cell_type": "markdown",
   "id": "8a516c53",
   "metadata": {},
   "source": [
    "#### Defining feature selection with all features included"
   ]
  },
  {
   "cell_type": "code",
   "execution_count": 22,
   "id": "0fedaeed",
   "metadata": {},
   "outputs": [],
   "source": [
    "fs = SelectKBest(score_func=f_regression, k='all')"
   ]
  },
  {
   "cell_type": "markdown",
   "id": "acdd44d4",
   "metadata": {},
   "source": [
    "#### Fitting the fs"
   ]
  },
  {
   "cell_type": "code",
   "execution_count": 23,
   "id": "1ef81c73",
   "metadata": {},
   "outputs": [
    {
     "data": {
      "text/plain": [
       "SelectKBest(k='all', score_func=<function f_regression at 0x0000029C27986F70>)"
      ]
     },
     "execution_count": 23,
     "metadata": {},
     "output_type": "execute_result"
    }
   ],
   "source": [
    "fs.fit(x_train, y_train)"
   ]
  },
  {
   "cell_type": "markdown",
   "id": "d73611d9",
   "metadata": {},
   "source": [
    "#### Checking the scores for the features"
   ]
  },
  {
   "cell_type": "code",
   "execution_count": 24,
   "id": "0c448c03",
   "metadata": {},
   "outputs": [
    {
     "name": "stdout",
     "output_type": "stream",
     "text": [
      "Feature 0: 3942.492414\n",
      "Feature 1: 574.339910\n",
      "Feature 2: 0.384945\n",
      "Feature 3: 81.868647\n",
      "Feature 4: 16.244444\n",
      "Feature 5: 1.071767\n",
      "Feature 6: 27.732194\n",
      "Feature 7: 49.768436\n",
      "Feature 8: 499.047196\n"
     ]
    }
   ],
   "source": [
    "for i in range(len(fs.scores_)):\n",
    "    print('Feature %d: %f' % (i, fs.scores_[i]))"
   ]
  },
  {
   "cell_type": "markdown",
   "id": "bf3b5c35",
   "metadata": {},
   "source": [
    "#### Plotting the scores in a bar graph"
   ]
  },
  {
   "cell_type": "code",
   "execution_count": 26,
   "id": "c415f29e",
   "metadata": {},
   "outputs": [
    {
     "data": {
      "image/png": "[encoded data removed]",
      "text/plain": [
       "<Figure size 640x480 with 1 Axes>"
      ]
     },
     "metadata": {},
     "output_type": "display_data"
    }
   ],
   "source": [
    "plt.bar([i for i in range(len(fs.scores_))], fs.scores_)\n",
    "plt.show()"
   ]
  },
  {
   "cell_type": "markdown",
   "id": "80f3d983",
   "metadata": {},
   "source": [
    "#### Selecting k = 4"
   ]
  },
  {
   "cell_type": "code",
   "execution_count": 27,
   "id": "d0f165a8",
   "metadata": {},
   "outputs": [],
   "source": [
    "fs = SelectKBest(score_func=f_regression, k=4)"
   ]
  },
  {
   "cell_type": "markdown",
   "id": "d44fe051",
   "metadata": {},
   "source": [
    "#### Transform the train and test data"
   ]
  },
  {
   "cell_type": "code",
   "execution_count": 28,
   "id": "69d58b6d",
   "metadata": {},
   "outputs": [
    {
     "data": {
      "text/plain": [
       "SelectKBest(k=4, score_func=<function f_regression at 0x0000029C27986F70>)"
      ]
     },
     "execution_count": 28,
     "metadata": {},
     "output_type": "execute_result"
    }
   ],
   "source": [
    "fs.fit(x_train, y_train)"
   ]
  },
  {
   "cell_type": "code",
   "execution_count": 29,
   "id": "bb7faaee",
   "metadata": {},
   "outputs": [],
   "source": [
    "x_train_fs = fs.transform(x_train)\n",
    "x_test_fs = fs.transform(x_test)"
   ]
  },
  {
   "cell_type": "code",
   "execution_count": 37,
   "id": "803bea91",
   "metadata": {},
   "outputs": [
    {
     "data": {
      "text/plain": [
       "(1140, 4)"
      ]
     },
     "execution_count": 37,
     "metadata": {},
     "output_type": "execute_result"
    }
   ],
   "source": [
    "x_train_fs.shape"
   ]
  },
  {
   "cell_type": "code",
   "execution_count": 30,
   "id": "12834778",
   "metadata": {},
   "outputs": [
    {
     "data": {
      "text/plain": [
       "(285, 4)"
      ]
     },
     "execution_count": 30,
     "metadata": {},
     "output_type": "execute_result"
    }
   ],
   "source": [
    "x_test_fs.shape"
   ]
  },
  {
   "cell_type": "code",
   "execution_count": 31,
   "id": "b2c2edb4",
   "metadata": {},
   "outputs": [],
   "source": [
    "model = LinearRegression()"
   ]
  },
  {
   "cell_type": "code",
   "execution_count": 32,
   "id": "fdc7677a",
   "metadata": {},
   "outputs": [
    {
     "data": {
      "text/plain": [
       "LinearRegression()"
      ]
     },
     "execution_count": 32,
     "metadata": {},
     "output_type": "execute_result"
    }
   ],
   "source": [
    "model.fit(x_train_fs, y_train)"
   ]
  },
  {
   "cell_type": "code",
   "execution_count": 33,
   "id": "680b2558",
   "metadata": {},
   "outputs": [],
   "source": [
    "y_pred_fs = model.predict(x_test_fs)"
   ]
  },
  {
   "cell_type": "code",
   "execution_count": 34,
   "id": "8d0b53f6",
   "metadata": {},
   "outputs": [
    {
     "data": {
      "text/plain": [
       "0.8559458124076056"
      ]
     },
     "execution_count": 34,
     "metadata": {},
     "output_type": "execute_result"
    }
   ],
   "source": [
    "model.score(x_train_fs, y_train)"
   ]
  },
  {
   "cell_type": "code",
   "execution_count": 35,
   "id": "d9fca0cd",
   "metadata": {},
   "outputs": [
    {
     "data": {
      "text/plain": [
       "0.8704453237957606"
      ]
     },
     "execution_count": 35,
     "metadata": {},
     "output_type": "execute_result"
    }
   ],
   "source": [
    "model.score(x_test_fs, y_test)"
   ]
  },
  {
   "cell_type": "markdown",
   "id": "f8534758",
   "metadata": {},
   "source": [
    "### Selecting only the top feature"
   ]
  },
  {
   "cell_type": "code",
   "execution_count": 36,
   "id": "9cce4e77",
   "metadata": {},
   "outputs": [],
   "source": [
    "fs = SelectKBest(score_func=f_regression, k=1)"
   ]
  },
  {
   "cell_type": "markdown",
   "id": "4ec3baab",
   "metadata": {},
   "source": [
    "#### Fitting the fs"
   ]
  },
  {
   "cell_type": "code",
   "execution_count": 38,
   "id": "7aee31d6",
   "metadata": {},
   "outputs": [
    {
     "data": {
      "text/plain": [
       "SelectKBest(k=1, score_func=<function f_regression at 0x0000029C27986F70>)"
      ]
     },
     "execution_count": 38,
     "metadata": {},
     "output_type": "execute_result"
    }
   ],
   "source": [
    "fs.fit(x_train, y_train)"
   ]
  },
  {
   "cell_type": "markdown",
   "id": "ac154fab",
   "metadata": {},
   "source": [
    "#### Transforming the training and testing data"
   ]
  },
  {
   "cell_type": "code",
   "execution_count": 39,
   "id": "5f7f10e7",
   "metadata": {},
   "outputs": [],
   "source": [
    "x_train_fs = fs.transform(x_train)\n",
    "x_test_fs = fs.transform(x_test)"
   ]
  },
  {
   "cell_type": "code",
   "execution_count": 40,
   "id": "3c4048d2",
   "metadata": {},
   "outputs": [
    {
     "data": {
      "text/plain": [
       "LinearRegression()"
      ]
     },
     "execution_count": 40,
     "metadata": {},
     "output_type": "execute_result"
    }
   ],
   "source": [
    "model.fit(x_train_fs, y_train)"
   ]
  },
  {
   "cell_type": "code",
   "execution_count": 41,
   "id": "3b906c72",
   "metadata": {},
   "outputs": [
    {
     "data": {
      "text/plain": [
       "0.77600596414153"
      ]
     },
     "execution_count": 41,
     "metadata": {},
     "output_type": "execute_result"
    }
   ],
   "source": [
    "model.score(x_train_fs, y_train)"
   ]
  },
  {
   "cell_type": "code",
   "execution_count": 42,
   "id": "fbacd6b7",
   "metadata": {},
   "outputs": [
    {
     "data": {
      "text/plain": [
       "0.744954467078992"
      ]
     },
     "execution_count": 42,
     "metadata": {},
     "output_type": "execute_result"
    }
   ],
   "source": [
    "model.score(x_test_fs, y_test)"
   ]
  },
  {
   "cell_type": "code",
   "execution_count": null,
   "id": "1dd2ef4d",
   "metadata": {},
   "outputs": [],
   "source": []
  }
 ],
 "metadata": {
  "kernelspec": {
   "display_name": "Python 3 (ipykernel)",
   "language": "python",
   "name": "python3"
  },
  "language_info": {
   "codemirror_mode": {
    "name": "ipython",
    "version": 3
   },
   "file_extension": ".py",
   "mimetype": "text/x-python",
   "name": "python",
   "nbconvert_exporter": "python",
   "pygments_lexer": "ipython3",
   "version": "3.9.13"
  }
 },
 "nbformat": 4,
 "nbformat_minor": 5
}
