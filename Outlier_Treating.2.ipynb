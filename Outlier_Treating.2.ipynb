{
 "cells": [
  {
   "cell_type": "markdown",
   "id": "1ce986e6",
   "metadata": {},
   "source": [
    "### Treating Outliers"
   ]
  },
  {
   "cell_type": "code",
   "execution_count": 1,
   "id": "45a1a837",
   "metadata": {},
   "outputs": [],
   "source": [
    "import pandas as pd\n",
    "import numpy as np\n",
    "import seaborn as sns\n",
    "import matplotlib.pyplot as plt\n",
    "import warnings\n",
    "warnings.filterwarnings('ignore')"
   ]
  },
  {
   "cell_type": "code",
   "execution_count": 2,
   "id": "d025f44a",
   "metadata": {},
   "outputs": [
    {
     "data": {
      "text/html": [
       "<div>\n",
       "<style scoped>\n",
       "    .dataframe tbody tr th:only-of-type {\n",
       "        vertical-align: middle;\n",
       "    }\n",
       "\n",
       "    .dataframe tbody tr th {\n",
       "        vertical-align: top;\n",
       "    }\n",
       "\n",
       "    .dataframe thead th {\n",
       "        text-align: right;\n",
       "    }\n",
       "</style>\n",
       "<table border=\"1\" class=\"dataframe\">\n",
       "  <thead>\n",
       "    <tr style=\"text-align: right;\">\n",
       "      <th></th>\n",
       "      <th>Date</th>\n",
       "      <th>Location</th>\n",
       "      <th>Country</th>\n",
       "      <th>Temperature</th>\n",
       "      <th>CO2 Emissions</th>\n",
       "      <th>Sea Level Rise</th>\n",
       "      <th>Precipitation</th>\n",
       "      <th>Humidity</th>\n",
       "      <th>Wind Speed</th>\n",
       "    </tr>\n",
       "  </thead>\n",
       "  <tbody>\n",
       "    <tr>\n",
       "      <th>0</th>\n",
       "      <td>2000-01-01 00:00:00.000000000</td>\n",
       "      <td>New Williamtown</td>\n",
       "      <td>Latvia</td>\n",
       "      <td>10.688986</td>\n",
       "      <td>403.118903</td>\n",
       "      <td>0.717506</td>\n",
       "      <td>13.835237</td>\n",
       "      <td>23.631256</td>\n",
       "      <td>18.492026</td>\n",
       "    </tr>\n",
       "    <tr>\n",
       "      <th>1</th>\n",
       "      <td>2000-01-01 20:09:43.258325832</td>\n",
       "      <td>North Rachel</td>\n",
       "      <td>South Africa</td>\n",
       "      <td>13.814430</td>\n",
       "      <td>396.663499</td>\n",
       "      <td>1.205715</td>\n",
       "      <td>40.974084</td>\n",
       "      <td>43.982946</td>\n",
       "      <td>34.249300</td>\n",
       "    </tr>\n",
       "    <tr>\n",
       "      <th>2</th>\n",
       "      <td>2000-01-02 16:19:26.516651665</td>\n",
       "      <td>West Williamland</td>\n",
       "      <td>French Guiana</td>\n",
       "      <td>27.323718</td>\n",
       "      <td>451.553155</td>\n",
       "      <td>-0.160783</td>\n",
       "      <td>42.697931</td>\n",
       "      <td>96.652600</td>\n",
       "      <td>34.124261</td>\n",
       "    </tr>\n",
       "    <tr>\n",
       "      <th>3</th>\n",
       "      <td>2000-01-03 12:29:09.774977497</td>\n",
       "      <td>South David</td>\n",
       "      <td>Vietnam</td>\n",
       "      <td>12.309581</td>\n",
       "      <td>422.404983</td>\n",
       "      <td>-0.475931</td>\n",
       "      <td>5.193341</td>\n",
       "      <td>47.467938</td>\n",
       "      <td>8.554563</td>\n",
       "    </tr>\n",
       "    <tr>\n",
       "      <th>4</th>\n",
       "      <td>2000-01-04 08:38:53.033303330</td>\n",
       "      <td>New Scottburgh</td>\n",
       "      <td>Moldova</td>\n",
       "      <td>13.210885</td>\n",
       "      <td>410.472999</td>\n",
       "      <td>1.135757</td>\n",
       "      <td>78.695280</td>\n",
       "      <td>61.789672</td>\n",
       "      <td>8.001164</td>\n",
       "    </tr>\n",
       "  </tbody>\n",
       "</table>\n",
       "</div>"
      ],
      "text/plain": [
       "                            Date          Location        Country  \\\n",
       "0  2000-01-01 00:00:00.000000000   New Williamtown         Latvia   \n",
       "1  2000-01-01 20:09:43.258325832      North Rachel   South Africa   \n",
       "2  2000-01-02 16:19:26.516651665  West Williamland  French Guiana   \n",
       "3  2000-01-03 12:29:09.774977497       South David        Vietnam   \n",
       "4  2000-01-04 08:38:53.033303330    New Scottburgh        Moldova   \n",
       "\n",
       "   Temperature  CO2 Emissions  Sea Level Rise  Precipitation   Humidity  \\\n",
       "0    10.688986     403.118903        0.717506      13.835237  23.631256   \n",
       "1    13.814430     396.663499        1.205715      40.974084  43.982946   \n",
       "2    27.323718     451.553155       -0.160783      42.697931  96.652600   \n",
       "3    12.309581     422.404983       -0.475931       5.193341  47.467938   \n",
       "4    13.210885     410.472999        1.135757      78.695280  61.789672   \n",
       "\n",
       "   Wind Speed  \n",
       "0   18.492026  \n",
       "1   34.249300  \n",
       "2   34.124261  \n",
       "3    8.554563  \n",
       "4    8.001164  "
      ]
     },
     "execution_count": 2,
     "metadata": {},
     "output_type": "execute_result"
    }
   ],
   "source": [
    "data=pd.read_csv('./climate_change_data.csv')\n",
    "data.head()"
   ]
  },
  {
   "cell_type": "code",
   "execution_count": 3,
   "id": "6520efc7",
   "metadata": {},
   "outputs": [
    {
     "data": {
      "text/plain": [
       "(10000, 9)"
      ]
     },
     "execution_count": 3,
     "metadata": {},
     "output_type": "execute_result"
    }
   ],
   "source": [
    "data.shape"
   ]
  },
  {
   "cell_type": "code",
   "execution_count": 4,
   "id": "f131111c",
   "metadata": {},
   "outputs": [
    {
     "data": {
      "text/plain": [
       "Date              0\n",
       "Location          0\n",
       "Country           0\n",
       "Temperature       0\n",
       "CO2 Emissions     0\n",
       "Sea Level Rise    0\n",
       "Precipitation     0\n",
       "Humidity          0\n",
       "Wind Speed        0\n",
       "dtype: int64"
      ]
     },
     "execution_count": 4,
     "metadata": {},
     "output_type": "execute_result"
    }
   ],
   "source": [
    "data.isnull().sum()"
   ]
  },
  {
   "cell_type": "markdown",
   "id": "4a8d44c3",
   "metadata": {},
   "source": [
    "#### Lets consider the Temperature column"
   ]
  },
  {
   "cell_type": "markdown",
   "id": "3e016300",
   "metadata": {},
   "source": [
    "#### Plotting the box plot for checking outliers"
   ]
  },
  {
   "cell_type": "code",
   "execution_count": 5,
   "id": "a3778ab3",
   "metadata": {},
   "outputs": [
    {
     "data": {
      "image/png": "[encoded data removed]",
      "text/plain": [
       "<Figure size 640x480 with 1 Axes>"
      ]
     },
     "metadata": {},
     "output_type": "display_data"
    }
   ],
   "source": [
    "sns.boxplot(data=data,y='Temperature', color='red');"
   ]
  },
  {
   "cell_type": "markdown",
   "id": "a1c36ffd",
   "metadata": {},
   "source": [
    "#### Setting the outlier limits"
   ]
  },
  {
   "cell_type": "code",
   "execution_count": 6,
   "id": "7edc2002",
   "metadata": {},
   "outputs": [],
   "source": [
    "def outlier_limit(col):\n",
    "    Q3, Q1 = np.nanpercentile (col, [75,25])\n",
    "    IQR = Q3 - Q1\n",
    "    UL = Q3+1.5*IQR\n",
    "    LL = Q1-1.5*IQR\n",
    "    return UL,LL"
   ]
  },
  {
   "cell_type": "code",
   "execution_count": 10,
   "id": "9a5183ae",
   "metadata": {},
   "outputs": [],
   "source": [
    "UL,LL = outlier_limit(data['Temperature'])\n",
    "data['Temperature'] = np.where((data['Temperature']>UL) | (data['Temperature']<LL),np.nan,data['Temperature'])"
   ]
  },
  {
   "cell_type": "markdown",
   "id": "69ce0ca1",
   "metadata": {},
   "source": [
    "#### Checking the NaN values"
   ]
  },
  {
   "cell_type": "code",
   "execution_count": 8,
   "id": "1526fb1b",
   "metadata": {},
   "outputs": [
    {
     "data": {
      "text/plain": [
       "Date               0\n",
       "Location           0\n",
       "Country            0\n",
       "Temperature       76\n",
       "CO2 Emissions      0\n",
       "Sea Level Rise     0\n",
       "Precipitation      0\n",
       "Humidity           0\n",
       "Wind Speed         0\n",
       "dtype: int64"
      ]
     },
     "execution_count": 8,
     "metadata": {},
     "output_type": "execute_result"
    }
   ],
   "source": [
    "data.isnull().sum()"
   ]
  },
  {
   "cell_type": "markdown",
   "id": "3b412a15",
   "metadata": {},
   "source": [
    "#### We can see that there is 3 outliers present in the DataFrame. We have to drop it."
   ]
  },
  {
   "cell_type": "code",
   "execution_count": 11,
   "id": "959f9bf7",
   "metadata": {},
   "outputs": [
    {
     "data": {
      "image/png": "[encoded data removed]",
      "text/plain": [
       "<Figure size 640x480 with 1 Axes>"
      ]
     },
     "metadata": {},
     "output_type": "display_data"
    }
   ],
   "source": [
    "sns.boxplot(data=data, y='Temperature',color='green');"
   ]
  },
  {
   "cell_type": "code",
   "execution_count": null,
   "id": "cfb5f81c",
   "metadata": {},
   "outputs": [],
   "source": []
  }
 ],
 "metadata": {
  "kernelspec": {
   "display_name": "Python 3 (ipykernel)",
   "language": "python",
   "name": "python3"
  },
  "language_info": {
   "codemirror_mode": {
    "name": "ipython",
    "version": 3
   },
   "file_extension": ".py",
   "mimetype": "text/x-python",
   "name": "python",
   "nbconvert_exporter": "python",
   "pygments_lexer": "ipython3",
   "version": "3.9.13"
  }
 },
 "nbformat": 4,
 "nbformat_minor": 5
}
