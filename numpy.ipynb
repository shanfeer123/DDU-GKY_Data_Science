{
 "cells": [
  {
   "cell_type": "markdown",
   "id": "e3c8662b",
   "metadata": {},
   "source": [
    "### Numpy"
   ]
  },
  {
   "cell_type": "code",
   "execution_count": 1,
   "id": "4ce7bec5",
   "metadata": {},
   "outputs": [],
   "source": [
    "import numpy as np"
   ]
  },
  {
   "cell_type": "code",
   "execution_count": 2,
   "id": "e2b9e47e",
   "metadata": {},
   "outputs": [],
   "source": [
    "a=np.array([10,20,40,70,80,0])"
   ]
  },
  {
   "cell_type": "code",
   "execution_count": 3,
   "id": "f7a1f3ba",
   "metadata": {},
   "outputs": [
    {
     "data": {
      "text/plain": [
       "dtype('int32')"
      ]
     },
     "execution_count": 3,
     "metadata": {},
     "output_type": "execute_result"
    }
   ],
   "source": [
    "a.dtype"
   ]
  },
  {
   "cell_type": "code",
   "execution_count": 4,
   "id": "4544766b",
   "metadata": {},
   "outputs": [
    {
     "data": {
      "text/plain": [
       "(6,)"
      ]
     },
     "execution_count": 4,
     "metadata": {},
     "output_type": "execute_result"
    }
   ],
   "source": [
    "a.shape"
   ]
  },
  {
   "cell_type": "code",
   "execution_count": 5,
   "id": "8cba2695",
   "metadata": {},
   "outputs": [
    {
     "data": {
      "text/plain": [
       "1"
      ]
     },
     "execution_count": 5,
     "metadata": {},
     "output_type": "execute_result"
    }
   ],
   "source": [
    "a.ndim"
   ]
  },
  {
   "cell_type": "code",
   "execution_count": 6,
   "id": "9d659347",
   "metadata": {},
   "outputs": [
    {
     "data": {
      "text/plain": [
       "6"
      ]
     },
     "execution_count": 6,
     "metadata": {},
     "output_type": "execute_result"
    }
   ],
   "source": [
    "a.size"
   ]
  },
  {
   "cell_type": "code",
   "execution_count": 7,
   "id": "37c3fd58",
   "metadata": {},
   "outputs": [
    {
     "data": {
      "text/plain": [
       "10"
      ]
     },
     "execution_count": 7,
     "metadata": {},
     "output_type": "execute_result"
    }
   ],
   "source": [
    "a[0]"
   ]
  },
  {
   "cell_type": "code",
   "execution_count": 8,
   "id": "5f252219",
   "metadata": {},
   "outputs": [
    {
     "data": {
      "text/plain": [
       "80"
      ]
     },
     "execution_count": 8,
     "metadata": {},
     "output_type": "execute_result"
    }
   ],
   "source": [
    "a[4]"
   ]
  },
  {
   "cell_type": "markdown",
   "id": "91bde3f9",
   "metadata": {},
   "source": [
    "### Multi dimensional array"
   ]
  },
  {
   "cell_type": "code",
   "execution_count": 9,
   "id": "72c00471",
   "metadata": {},
   "outputs": [],
   "source": [
    "a_2nd=np.array([[10,30,40], [22,34,18]])"
   ]
  },
  {
   "cell_type": "code",
   "execution_count": 10,
   "id": "8fceedf3",
   "metadata": {},
   "outputs": [
    {
     "data": {
      "text/plain": [
       "array([[10, 30, 40],\n",
       "       [22, 34, 18]])"
      ]
     },
     "execution_count": 10,
     "metadata": {},
     "output_type": "execute_result"
    }
   ],
   "source": [
    "a_2nd"
   ]
  },
  {
   "cell_type": "code",
   "execution_count": 11,
   "id": "67d57f89",
   "metadata": {},
   "outputs": [
    {
     "data": {
      "text/plain": [
       "dtype('int32')"
      ]
     },
     "execution_count": 11,
     "metadata": {},
     "output_type": "execute_result"
    }
   ],
   "source": [
    "a_2nd.dtype"
   ]
  },
  {
   "cell_type": "code",
   "execution_count": 12,
   "id": "9ca0d3ea",
   "metadata": {},
   "outputs": [
    {
     "data": {
      "text/plain": [
       "(2, 3)"
      ]
     },
     "execution_count": 12,
     "metadata": {},
     "output_type": "execute_result"
    }
   ],
   "source": [
    "a_2nd.shape"
   ]
  },
  {
   "cell_type": "code",
   "execution_count": 13,
   "id": "ce375864",
   "metadata": {},
   "outputs": [
    {
     "data": {
      "text/plain": [
       "2"
      ]
     },
     "execution_count": 13,
     "metadata": {},
     "output_type": "execute_result"
    }
   ],
   "source": [
    "a_2nd.ndim"
   ]
  },
  {
   "cell_type": "code",
   "execution_count": 14,
   "id": "aa2d9f14",
   "metadata": {},
   "outputs": [
    {
     "data": {
      "text/plain": [
       "array([22, 34, 18])"
      ]
     },
     "execution_count": 14,
     "metadata": {},
     "output_type": "execute_result"
    }
   ],
   "source": [
    "a_2nd[1]"
   ]
  },
  {
   "cell_type": "markdown",
   "id": "d7939fd9",
   "metadata": {},
   "source": [
    "### Another type of multi dimensional arrays"
   ]
  },
  {
   "cell_type": "code",
   "execution_count": 15,
   "id": "7970bc41",
   "metadata": {},
   "outputs": [],
   "source": [
    "another_type_array=np.array([[(2,3,5,6,7)]])"
   ]
  },
  {
   "cell_type": "code",
   "execution_count": 16,
   "id": "dfb8c649",
   "metadata": {},
   "outputs": [
    {
     "data": {
      "text/plain": [
       "array([[[2, 3, 5, 6, 7]]])"
      ]
     },
     "execution_count": 16,
     "metadata": {},
     "output_type": "execute_result"
    }
   ],
   "source": [
    "another_type_array"
   ]
  },
  {
   "cell_type": "code",
   "execution_count": 17,
   "id": "20570cd2",
   "metadata": {},
   "outputs": [
    {
     "data": {
      "text/plain": [
       "(1, 1, 5)"
      ]
     },
     "execution_count": 17,
     "metadata": {},
     "output_type": "execute_result"
    }
   ],
   "source": [
    "another_type_array.shape"
   ]
  },
  {
   "cell_type": "code",
   "execution_count": 18,
   "id": "7119b613",
   "metadata": {},
   "outputs": [
    {
     "data": {
      "text/plain": [
       "3"
      ]
     },
     "execution_count": 18,
     "metadata": {},
     "output_type": "execute_result"
    }
   ],
   "source": [
    "another_type_array.ndim"
   ]
  },
  {
   "cell_type": "markdown",
   "id": "45dfb596",
   "metadata": {},
   "source": [
    "#### First element in first array "
   ]
  },
  {
   "cell_type": "code",
   "execution_count": 19,
   "id": "833d16e2",
   "metadata": {},
   "outputs": [
    {
     "data": {
      "text/plain": [
       "10"
      ]
     },
     "execution_count": 19,
     "metadata": {},
     "output_type": "execute_result"
    }
   ],
   "source": [
    "a_2nd[0][0]"
   ]
  },
  {
   "cell_type": "markdown",
   "id": "d91e8181",
   "metadata": {},
   "source": [
    "#### Second element in second array "
   ]
  },
  {
   "cell_type": "code",
   "execution_count": 20,
   "id": "55fe503d",
   "metadata": {},
   "outputs": [
    {
     "data": {
      "text/plain": [
       "34"
      ]
     },
     "execution_count": 20,
     "metadata": {},
     "output_type": "execute_result"
    }
   ],
   "source": [
    "a_2nd[1][1]"
   ]
  },
  {
   "cell_type": "markdown",
   "id": "a429ab9e",
   "metadata": {},
   "source": [
    "#### Lets change its data type into float"
   ]
  },
  {
   "cell_type": "code",
   "execution_count": 21,
   "id": "8b27dc15",
   "metadata": {},
   "outputs": [],
   "source": [
    "a_2nd=np.array([[10,30,40], [22,34,18]], dtype=float)"
   ]
  },
  {
   "cell_type": "code",
   "execution_count": 22,
   "id": "ce281acb",
   "metadata": {},
   "outputs": [
    {
     "data": {
      "text/plain": [
       "array([[10., 30., 40.],\n",
       "       [22., 34., 18.]])"
      ]
     },
     "execution_count": 22,
     "metadata": {},
     "output_type": "execute_result"
    }
   ],
   "source": [
    "a_2nd"
   ]
  },
  {
   "cell_type": "markdown",
   "id": "90d0ae61",
   "metadata": {},
   "source": [
    "#### Lets create a bigger array "
   ]
  },
  {
   "cell_type": "code",
   "execution_count": 23,
   "id": "8a5fd770",
   "metadata": {},
   "outputs": [],
   "source": [
    "a_bigger=np.array([\n",
    "[\n",
    "[12,22,33,46],[5,4,7,3],[2,2,2,3]\n",
    "],\n",
    "[\n",
    "[7,8,4,28],[2,3,3,4],[3,0,0,1]\n",
    "],\n",
    "[\n",
    "[12,36,42,4],[24,2,12,3],[0,2,4,1]\n",
    "]\n",
    "], dtype = float )"
   ]
  },
  {
   "cell_type": "code",
   "execution_count": 24,
   "id": "44cd2ce9",
   "metadata": {},
   "outputs": [
    {
     "data": {
      "text/plain": [
       "(3, 3, 4)"
      ]
     },
     "execution_count": 24,
     "metadata": {},
     "output_type": "execute_result"
    }
   ],
   "source": [
    "a_bigger.shape"
   ]
  },
  {
   "cell_type": "code",
   "execution_count": 25,
   "id": "80eeb968",
   "metadata": {},
   "outputs": [
    {
     "data": {
      "text/plain": [
       "3"
      ]
     },
     "execution_count": 25,
     "metadata": {},
     "output_type": "execute_result"
    }
   ],
   "source": [
    "a_bigger.ndim"
   ]
  },
  {
   "cell_type": "code",
   "execution_count": 26,
   "id": "563ecdc4",
   "metadata": {},
   "outputs": [
    {
     "data": {
      "text/plain": [
       "36"
      ]
     },
     "execution_count": 26,
     "metadata": {},
     "output_type": "execute_result"
    }
   ],
   "source": [
    "a_bigger.size"
   ]
  },
  {
   "cell_type": "code",
   "execution_count": 27,
   "id": "5c42c668",
   "metadata": {},
   "outputs": [
    {
     "data": {
      "text/plain": [
       "1.0"
      ]
     },
     "execution_count": 27,
     "metadata": {},
     "output_type": "execute_result"
    }
   ],
   "source": [
    "a_bigger[2][2][3]"
   ]
  },
  {
   "cell_type": "code",
   "execution_count": 28,
   "id": "5c377258",
   "metadata": {},
   "outputs": [
    {
     "data": {
      "text/plain": [
       "array([0., 2., 4., 1.])"
      ]
     },
     "execution_count": 28,
     "metadata": {},
     "output_type": "execute_result"
    }
   ],
   "source": [
    "a_bigger[2][2]"
   ]
  },
  {
   "cell_type": "markdown",
   "id": "665d5ee8",
   "metadata": {},
   "source": [
    "#### Filling arrays"
   ]
  },
  {
   "cell_type": "code",
   "execution_count": 29,
   "id": "a0ce169e",
   "metadata": {},
   "outputs": [],
   "source": [
    "a_full=np.full((4,5,6),6)"
   ]
  },
  {
   "cell_type": "code",
   "execution_count": 30,
   "id": "ee90190b",
   "metadata": {},
   "outputs": [
    {
     "data": {
      "text/plain": [
       "array([[[6, 6, 6, 6, 6, 6],\n",
       "        [6, 6, 6, 6, 6, 6],\n",
       "        [6, 6, 6, 6, 6, 6],\n",
       "        [6, 6, 6, 6, 6, 6],\n",
       "        [6, 6, 6, 6, 6, 6]],\n",
       "\n",
       "       [[6, 6, 6, 6, 6, 6],\n",
       "        [6, 6, 6, 6, 6, 6],\n",
       "        [6, 6, 6, 6, 6, 6],\n",
       "        [6, 6, 6, 6, 6, 6],\n",
       "        [6, 6, 6, 6, 6, 6]],\n",
       "\n",
       "       [[6, 6, 6, 6, 6, 6],\n",
       "        [6, 6, 6, 6, 6, 6],\n",
       "        [6, 6, 6, 6, 6, 6],\n",
       "        [6, 6, 6, 6, 6, 6],\n",
       "        [6, 6, 6, 6, 6, 6]],\n",
       "\n",
       "       [[6, 6, 6, 6, 6, 6],\n",
       "        [6, 6, 6, 6, 6, 6],\n",
       "        [6, 6, 6, 6, 6, 6],\n",
       "        [6, 6, 6, 6, 6, 6],\n",
       "        [6, 6, 6, 6, 6, 6]]])"
      ]
     },
     "execution_count": 30,
     "metadata": {},
     "output_type": "execute_result"
    }
   ],
   "source": [
    "a_full"
   ]
  },
  {
   "cell_type": "code",
   "execution_count": 31,
   "id": "f556d609",
   "metadata": {},
   "outputs": [
    {
     "data": {
      "text/plain": [
       "3"
      ]
     },
     "execution_count": 31,
     "metadata": {},
     "output_type": "execute_result"
    }
   ],
   "source": [
    "a_full.ndim"
   ]
  },
  {
   "cell_type": "markdown",
   "id": "91f7e2f6",
   "metadata": {},
   "source": [
    "#### ZEROS AND ONES"
   ]
  },
  {
   "cell_type": "code",
   "execution_count": 33,
   "id": "80ab96ed",
   "metadata": {},
   "outputs": [
    {
     "data": {
      "text/plain": [
       "array([[0., 0., 0., 0.],\n",
       "       [0., 0., 0., 0.],\n",
       "       [0., 0., 0., 0.],\n",
       "       [0., 0., 0., 0.]])"
      ]
     },
     "execution_count": 33,
     "metadata": {},
     "output_type": "execute_result"
    }
   ],
   "source": [
    "a_zeros=np.zeros((4,4))\n",
    "a_zeros"
   ]
  },
  {
   "cell_type": "code",
   "execution_count": 34,
   "id": "4ebbfae9",
   "metadata": {},
   "outputs": [
    {
     "data": {
      "text/plain": [
       "array([[[1., 1., 1., 1.],\n",
       "        [1., 1., 1., 1.],\n",
       "        [1., 1., 1., 1.]],\n",
       "\n",
       "       [[1., 1., 1., 1.],\n",
       "        [1., 1., 1., 1.],\n",
       "        [1., 1., 1., 1.]],\n",
       "\n",
       "       [[1., 1., 1., 1.],\n",
       "        [1., 1., 1., 1.],\n",
       "        [1., 1., 1., 1.]]])"
      ]
     },
     "execution_count": 34,
     "metadata": {},
     "output_type": "execute_result"
    }
   ],
   "source": [
    "b_ones=np.ones((3,3,4))\n",
    "b_ones"
   ]
  },
  {
   "cell_type": "code",
   "execution_count": 35,
   "id": "e4932072",
   "metadata": {},
   "outputs": [
    {
     "data": {
      "text/plain": [
       "3"
      ]
     },
     "execution_count": 35,
     "metadata": {},
     "output_type": "execute_result"
    }
   ],
   "source": [
    "b_ones.ndim"
   ]
  },
  {
   "cell_type": "markdown",
   "id": "5afacc98",
   "metadata": {},
   "source": [
    "#### EMPTY AND RANDOM"
   ]
  },
  {
   "cell_type": "code",
   "execution_count": 36,
   "id": "3741facc",
   "metadata": {},
   "outputs": [
    {
     "data": {
      "text/plain": [
       "array([[1.12981944e-311, 3.16202013e-322, 0.00000000e+000,\n",
       "        0.00000000e+000],\n",
       "       [1.14587773e-312, 7.26815049e-043, 2.46414801e+184,\n",
       "        2.46705299e+184],\n",
       "       [1.68718528e-051, 8.60992800e-043, 1.16413631e+165,\n",
       "        3.69411897e-057]])"
      ]
     },
     "execution_count": 36,
     "metadata": {},
     "output_type": "execute_result"
    }
   ],
   "source": [
    "e=np.empty((3,4))\n",
    "e"
   ]
  },
  {
   "cell_type": "code",
   "execution_count": 37,
   "id": "0c34f984",
   "metadata": {},
   "outputs": [
    {
     "data": {
      "text/plain": [
       "array([[0.99796913, 0.06334057],\n",
       "       [0.69497682, 0.15240879]])"
      ]
     },
     "execution_count": 37,
     "metadata": {},
     "output_type": "execute_result"
    }
   ],
   "source": [
    "b_random=np.random.random((2,2))\n",
    "b_random"
   ]
  },
  {
   "cell_type": "code",
   "execution_count": 38,
   "id": "6f72b8df",
   "metadata": {},
   "outputs": [
    {
     "data": {
      "text/plain": [
       "2"
      ]
     },
     "execution_count": 38,
     "metadata": {},
     "output_type": "execute_result"
    }
   ],
   "source": [
    "b_random.ndim"
   ]
  },
  {
   "cell_type": "code",
   "execution_count": 39,
   "id": "e54791c9",
   "metadata": {},
   "outputs": [
    {
     "data": {
      "text/plain": [
       "4"
      ]
     },
     "execution_count": 39,
     "metadata": {},
     "output_type": "execute_result"
    }
   ],
   "source": [
    "b_random.size"
   ]
  },
  {
   "cell_type": "markdown",
   "id": "bb96bfbc",
   "metadata": {},
   "source": [
    "### RANGES"
   ]
  },
  {
   "cell_type": "markdown",
   "id": "8fa08b1f",
   "metadata": {},
   "source": [
    "#### Arange"
   ]
  },
  {
   "cell_type": "code",
   "execution_count": 40,
   "id": "8324ae4c",
   "metadata": {},
   "outputs": [],
   "source": [
    "a_arange=np.arange(10,50,5)"
   ]
  },
  {
   "cell_type": "code",
   "execution_count": 41,
   "id": "c2036658",
   "metadata": {},
   "outputs": [
    {
     "data": {
      "text/plain": [
       "array([10, 15, 20, 25, 30, 35, 40, 45])"
      ]
     },
     "execution_count": 41,
     "metadata": {},
     "output_type": "execute_result"
    }
   ],
   "source": [
    "a_arange"
   ]
  },
  {
   "cell_type": "markdown",
   "id": "68a38ff7",
   "metadata": {},
   "source": [
    "#### linspace"
   ]
  },
  {
   "cell_type": "code",
   "execution_count": 49,
   "id": "77a52f62",
   "metadata": {},
   "outputs": [
    {
     "data": {
      "text/plain": [
       "array([ 0. ,  2.5,  5. ,  7.5, 10. ])"
      ]
     },
     "execution_count": 49,
     "metadata": {},
     "output_type": "execute_result"
    }
   ],
   "source": [
    "np.linspace(0, 10, 5)"
   ]
  },
  {
   "cell_type": "code",
   "execution_count": 52,
   "id": "1a6a68ff",
   "metadata": {},
   "outputs": [
    {
     "data": {
      "text/plain": [
       "array([0.88736104, 0.73934936])"
      ]
     },
     "execution_count": 52,
     "metadata": {},
     "output_type": "execute_result"
    }
   ],
   "source": [
    "np.random.rand(2)"
   ]
  },
  {
   "cell_type": "code",
   "execution_count": 53,
   "id": "8bc9fcdf",
   "metadata": {},
   "outputs": [
    {
     "data": {
      "text/plain": [
       "array([ 0., 50.])"
      ]
     },
     "execution_count": 53,
     "metadata": {},
     "output_type": "execute_result"
    }
   ],
   "source": [
    "b_linspace=np.linspace(0,50,2)\n",
    "b_linspace"
   ]
  },
  {
   "cell_type": "code",
   "execution_count": 54,
   "id": "24e3c731",
   "metadata": {},
   "outputs": [],
   "source": [
    "b_linspace1=np.linspace(0,50,35)"
   ]
  },
  {
   "cell_type": "code",
   "execution_count": 55,
   "id": "619637df",
   "metadata": {},
   "outputs": [
    {
     "data": {
      "text/plain": [
       "array([ 0.        ,  1.47058824,  2.94117647,  4.41176471,  5.88235294,\n",
       "        7.35294118,  8.82352941, 10.29411765, 11.76470588, 13.23529412,\n",
       "       14.70588235, 16.17647059, 17.64705882, 19.11764706, 20.58823529,\n",
       "       22.05882353, 23.52941176, 25.        , 26.47058824, 27.94117647,\n",
       "       29.41176471, 30.88235294, 32.35294118, 33.82352941, 35.29411765,\n",
       "       36.76470588, 38.23529412, 39.70588235, 41.17647059, 42.64705882,\n",
       "       44.11764706, 45.58823529, 47.05882353, 48.52941176, 50.        ])"
      ]
     },
     "execution_count": 55,
     "metadata": {},
     "output_type": "execute_result"
    }
   ],
   "source": [
    "b_linspace1"
   ]
  },
  {
   "cell_type": "code",
   "execution_count": 56,
   "id": "86e81a49",
   "metadata": {},
   "outputs": [
    {
     "data": {
      "text/plain": [
       "35"
      ]
     },
     "execution_count": 56,
     "metadata": {},
     "output_type": "execute_result"
    }
   ],
   "source": [
    "b_linspace1.size"
   ]
  },
  {
   "cell_type": "code",
   "execution_count": 58,
   "id": "099809f8",
   "metadata": {},
   "outputs": [
    {
     "data": {
      "text/plain": [
       "array([ 0,  1,  3,  5,  6,  8, 10, 12, 13, 15, 17, 18, 20, 22, 24, 25, 27,\n",
       "       29, 31, 32, 34, 36, 37, 39, 41, 43, 44, 46, 48, 50])"
      ]
     },
     "execution_count": 58,
     "metadata": {},
     "output_type": "execute_result"
    }
   ],
   "source": [
    "b_linspace2=np.linspace(0,50,30, dtype=int)\n",
    "b_linspace2"
   ]
  },
  {
   "cell_type": "code",
   "execution_count": null,
   "id": "f3f1a451",
   "metadata": {},
   "outputs": [],
   "source": []
  }
 ],
 "metadata": {
  "kernelspec": {
   "display_name": "Python 3 (ipykernel)",
   "language": "python",
   "name": "python3"
  },
  "language_info": {
   "codemirror_mode": {
    "name": "ipython",
    "version": 3
   },
   "file_extension": ".py",
   "mimetype": "text/x-python",
   "name": "python",
   "nbconvert_exporter": "python",
   "pygments_lexer": "ipython3",
   "version": "3.9.13"
  }
 },
 "nbformat": 4,
 "nbformat_minor": 5
}
